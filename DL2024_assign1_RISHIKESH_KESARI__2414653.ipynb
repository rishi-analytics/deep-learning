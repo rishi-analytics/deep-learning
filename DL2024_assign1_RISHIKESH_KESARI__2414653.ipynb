{
  "cells": [
    {
      "cell_type": "markdown",
      "metadata": {
        "id": "view-in-github",
        "colab_type": "text"
      },
      "source": [
        "<a href=\"https://colab.research.google.com/github/rishi-analytics/deep-learning/blob/main/DL2024_assign1_RISHIKESH_KESARI__2414653.ipynb\" target=\"_parent\"><img src=\"https://colab.research.google.com/assets/colab-badge.svg\" alt=\"Open In Colab\"/></a>"
      ]
    },
    {
      "cell_type": "markdown",
      "metadata": {
        "id": "1rejpBzapt7X"
      },
      "source": [
        "# Deep Learning 2024 - Assignment 1\n",
        "\n",
        "Designed by Marko Savic (marko.savic@oulu.fi)\n",
        "\n"
      ]
    },
    {
      "cell_type": "markdown",
      "metadata": {
        "id": "RMnmiU6Mpt7Y"
      },
      "source": [
        "## Outline (10 points)\n",
        "#### Submission:\n",
        "We will give 2 weeks for each assignment and more for the final project.\n",
        "\n",
        "The grades will be released after the deadline. Please also put your name and student number (if you have one) in the file name of the returned assignments. (DL2024_assign1_NAME_SURNAME_STUDENTNUMBER.ipynb)\n",
        "\n",
        "#### In this assignment, you will learn:\n",
        "* How to load data and create a train/test split\n",
        "* How to build your own Pytorch model for simple linear regression problem on the generated data.\n",
        "* Training the model with gradient descent algorithm in Pytorch.\n",
        "* Simple visualisation of data, loss and linear model\n",
        "\n",
        "#### Tasks (10 points):\n",
        "* Part 1. Load dataset and split into training and testing sets (1.5 points)\n",
        "* Part 2.1 Model (1.5 points)\n",
        "* Part 2.2 Training (7 points)\n",
        "\n",
        "#### Environment\n",
        "Python 3 + Pytorch (>=1.3).<br>\n",
        "Other libraries should be installed correctly such as numpy, matplotlib, *etc*., according to the dependencies of the assignment. <br>\n",
        "If you haven’t installed Pytorch and Jupyter notebook in your computer, an alternative environment to finish the assignment is CSC notebook: [`https://noppe.2.rahtiapp.fi/`](https://noppe.2.rahtiapp.fi/) -> log in with HaKa using your university account -> Jupyter Machine Learning.\n",
        "Also, googlecolab is available through your google university account (instruction in https://www.oulu.fi/en/for-students/supporting-your-studies-and-contact-information-for-students/it-services-for-students/google-workspace-for-education). Computer room TS135 contains computers with GPUs that you can utilise as well.\n",
        "\n",
        "We will give 2 weeks for each assignment and more for the final project. So it may happen where the new assignment is published before the deadline of the previous assignment. Please do not wait till the last minute to complete the assigments, as they can be time consuming.\n",
        "\n",
        "#### Database\n",
        "* Advertising dataset\n",
        "\n",
        "#### Hints\n",
        "* To find the place where you have to insert your solution, hit Crtl + F and search for **TODO:** . You are not supposed to modify the code from other parts.\n",
        "* Be careful with the shape of the weights, gradient, .. of your tensor in your implementation. Double check and make sure the shapes fit for computation, especially matrix multiplication.\n",
        "* Use only torch functions for the model, and avoid iterations. E.g. if you put a for cycle in the model function then parallelism is gone and your model will not run efficiently on GPUs. Also once you have the data loaded as tensors, you need to use torch functions, if you convert to numpy arrays in the training loop then it will not train efficiently.\n",
        "* Check the examples from the pytorch tutorial lecture, they can help understand the assignment better."
      ]
    },
    {
      "cell_type": "markdown",
      "metadata": {
        "id": "Kc5d70Qspt7Z"
      },
      "source": [
        "## Part 1. Load dataset and split into training and testing sets\n",
        "\n",
        "Suppose we observe a set of n real-valued input variables x = $\\{x_n\\}$ and wish to use this observation to predict\n",
        "the value of a real-valued target variable $y$. In the tutorial we considered artifical examples with synthetic data. In this exercise we will consider a simple dataset that is suitable for linear regression.\n",
        "\n",
        "We will take a small advertisement dataset. It contains data on the budget allocated for TV, radio and newspaper advertisements with the resulting sales. It contains n = 200 samples with three variables \"TV\", \"Radio\",\"Newspaper\" and the value we want to predict, that is \"Sales\". Assuming a linear model is a good representation of the correlation between advertisement budgets and final sales, we will try to train a linear model to regress the sales based on advertisement budget.\n",
        "\n",
        "The dataset is located in the advertisement .csv file and opened as a pandas Dataframe. Firstly we will turn the input variables and regression target into Tensors, and then split the data into training and testing sets. In this case we choose a five fold split, meaning we will use 20% of the data for testing (last 40 samples) and 80% for training (first 160 samples).\n",
        "\n",
        "Please create the required training and testing data below and plot the relationship between the feature 'TV' and the target. Since we have 3 different features, we will only pick 'TV' a 2D plot."
      ]
    },
    {
      "cell_type": "code",
      "execution_count": 4,
      "metadata": {
        "colab": {
          "base_uri": "https://localhost:8080/",
          "height": 180
        },
        "id": "hdhJzzlHpt7a",
        "outputId": "07384cfe-7874-4ab0-ae9b-c3b1f3c315cf"
      },
      "outputs": [
        {
          "output_type": "stream",
          "name": "stdout",
          "text": [
            "Requirement already satisfied: onedrivedownloader in /usr/local/lib/python3.10/dist-packages (1.1.3)\n",
            "Requirement already satisfied: requests in /usr/local/lib/python3.10/dist-packages (from onedrivedownloader) (2.32.3)\n",
            "Requirement already satisfied: tqdm in /usr/local/lib/python3.10/dist-packages (from onedrivedownloader) (4.66.6)\n",
            "Requirement already satisfied: charset-normalizer<4,>=2 in /usr/local/lib/python3.10/dist-packages (from requests->onedrivedownloader) (3.4.0)\n",
            "Requirement already satisfied: idna<4,>=2.5 in /usr/local/lib/python3.10/dist-packages (from requests->onedrivedownloader) (3.10)\n",
            "Requirement already satisfied: urllib3<3,>=1.21.1 in /usr/local/lib/python3.10/dist-packages (from requests->onedrivedownloader) (2.2.3)\n",
            "Requirement already satisfied: certifi>=2017.4.17 in /usr/local/lib/python3.10/dist-packages (from requests->onedrivedownloader) (2024.8.30)\n"
          ]
        },
        {
          "output_type": "execute_result",
          "data": {
            "text/plain": [
              "'./advertising.csv'"
            ],
            "application/vnd.google.colaboratory.intrinsic+json": {
              "type": "string"
            }
          },
          "metadata": {},
          "execution_count": 4
        }
      ],
      "source": [
        "!pip install onedrivedownloader\n",
        "\n",
        "from onedrivedownloader import download\n",
        "import os\n",
        "link = 'https://unioulu-my.sharepoint.com/:x:/g/personal/msavic21_univ_yo_oulu_fi/Eb211jNyQAVIhTq1HsoxQyEBEqoDNHhr606Kfh9LY5Brjw?e=cONlaG'\n",
        "\n",
        "#if not os.path.exists('./data/fashion_mnist_npy'):\n",
        "#    print('Downloading dataset')\n",
        "download(link, filename=\"./advertising.csv\", unzip=True, unzip_path='./')"
      ]
    },
    {
      "cell_type": "code",
      "execution_count": 5,
      "metadata": {
        "colab": {
          "base_uri": "https://localhost:8080/",
          "height": 206
        },
        "id": "gl-D1SLNpt7b",
        "outputId": "aefa0129-b197-4d95-d6d1-101dc328391b"
      },
      "outputs": [
        {
          "output_type": "execute_result",
          "data": {
            "text/plain": [
              "      TV  Radio  Newspaper  Sales\n",
              "0  230.1   37.8       69.2   22.1\n",
              "1   44.5   39.3       45.1   10.4\n",
              "2   17.2   45.9       69.3   12.0\n",
              "3  151.5   41.3       58.5   16.5\n",
              "4  180.8   10.8       58.4   17.9"
            ],
            "text/html": [
              "\n",
              "  <div id=\"df-a4e82f8c-1b8d-40c6-a65a-206850f20339\" class=\"colab-df-container\">\n",
              "    <div>\n",
              "<style scoped>\n",
              "    .dataframe tbody tr th:only-of-type {\n",
              "        vertical-align: middle;\n",
              "    }\n",
              "\n",
              "    .dataframe tbody tr th {\n",
              "        vertical-align: top;\n",
              "    }\n",
              "\n",
              "    .dataframe thead th {\n",
              "        text-align: right;\n",
              "    }\n",
              "</style>\n",
              "<table border=\"1\" class=\"dataframe\">\n",
              "  <thead>\n",
              "    <tr style=\"text-align: right;\">\n",
              "      <th></th>\n",
              "      <th>TV</th>\n",
              "      <th>Radio</th>\n",
              "      <th>Newspaper</th>\n",
              "      <th>Sales</th>\n",
              "    </tr>\n",
              "  </thead>\n",
              "  <tbody>\n",
              "    <tr>\n",
              "      <th>0</th>\n",
              "      <td>230.1</td>\n",
              "      <td>37.8</td>\n",
              "      <td>69.2</td>\n",
              "      <td>22.1</td>\n",
              "    </tr>\n",
              "    <tr>\n",
              "      <th>1</th>\n",
              "      <td>44.5</td>\n",
              "      <td>39.3</td>\n",
              "      <td>45.1</td>\n",
              "      <td>10.4</td>\n",
              "    </tr>\n",
              "    <tr>\n",
              "      <th>2</th>\n",
              "      <td>17.2</td>\n",
              "      <td>45.9</td>\n",
              "      <td>69.3</td>\n",
              "      <td>12.0</td>\n",
              "    </tr>\n",
              "    <tr>\n",
              "      <th>3</th>\n",
              "      <td>151.5</td>\n",
              "      <td>41.3</td>\n",
              "      <td>58.5</td>\n",
              "      <td>16.5</td>\n",
              "    </tr>\n",
              "    <tr>\n",
              "      <th>4</th>\n",
              "      <td>180.8</td>\n",
              "      <td>10.8</td>\n",
              "      <td>58.4</td>\n",
              "      <td>17.9</td>\n",
              "    </tr>\n",
              "  </tbody>\n",
              "</table>\n",
              "</div>\n",
              "    <div class=\"colab-df-buttons\">\n",
              "\n",
              "  <div class=\"colab-df-container\">\n",
              "    <button class=\"colab-df-convert\" onclick=\"convertToInteractive('df-a4e82f8c-1b8d-40c6-a65a-206850f20339')\"\n",
              "            title=\"Convert this dataframe to an interactive table.\"\n",
              "            style=\"display:none;\">\n",
              "\n",
              "  <svg xmlns=\"http://www.w3.org/2000/svg\" height=\"24px\" viewBox=\"0 -960 960 960\">\n",
              "    <path d=\"M120-120v-720h720v720H120Zm60-500h600v-160H180v160Zm220 220h160v-160H400v160Zm0 220h160v-160H400v160ZM180-400h160v-160H180v160Zm440 0h160v-160H620v160ZM180-180h160v-160H180v160Zm440 0h160v-160H620v160Z\"/>\n",
              "  </svg>\n",
              "    </button>\n",
              "\n",
              "  <style>\n",
              "    .colab-df-container {\n",
              "      display:flex;\n",
              "      gap: 12px;\n",
              "    }\n",
              "\n",
              "    .colab-df-convert {\n",
              "      background-color: #E8F0FE;\n",
              "      border: none;\n",
              "      border-radius: 50%;\n",
              "      cursor: pointer;\n",
              "      display: none;\n",
              "      fill: #1967D2;\n",
              "      height: 32px;\n",
              "      padding: 0 0 0 0;\n",
              "      width: 32px;\n",
              "    }\n",
              "\n",
              "    .colab-df-convert:hover {\n",
              "      background-color: #E2EBFA;\n",
              "      box-shadow: 0px 1px 2px rgba(60, 64, 67, 0.3), 0px 1px 3px 1px rgba(60, 64, 67, 0.15);\n",
              "      fill: #174EA6;\n",
              "    }\n",
              "\n",
              "    .colab-df-buttons div {\n",
              "      margin-bottom: 4px;\n",
              "    }\n",
              "\n",
              "    [theme=dark] .colab-df-convert {\n",
              "      background-color: #3B4455;\n",
              "      fill: #D2E3FC;\n",
              "    }\n",
              "\n",
              "    [theme=dark] .colab-df-convert:hover {\n",
              "      background-color: #434B5C;\n",
              "      box-shadow: 0px 1px 3px 1px rgba(0, 0, 0, 0.15);\n",
              "      filter: drop-shadow(0px 1px 2px rgba(0, 0, 0, 0.3));\n",
              "      fill: #FFFFFF;\n",
              "    }\n",
              "  </style>\n",
              "\n",
              "    <script>\n",
              "      const buttonEl =\n",
              "        document.querySelector('#df-a4e82f8c-1b8d-40c6-a65a-206850f20339 button.colab-df-convert');\n",
              "      buttonEl.style.display =\n",
              "        google.colab.kernel.accessAllowed ? 'block' : 'none';\n",
              "\n",
              "      async function convertToInteractive(key) {\n",
              "        const element = document.querySelector('#df-a4e82f8c-1b8d-40c6-a65a-206850f20339');\n",
              "        const dataTable =\n",
              "          await google.colab.kernel.invokeFunction('convertToInteractive',\n",
              "                                                    [key], {});\n",
              "        if (!dataTable) return;\n",
              "\n",
              "        const docLinkHtml = 'Like what you see? Visit the ' +\n",
              "          '<a target=\"_blank\" href=https://colab.research.google.com/notebooks/data_table.ipynb>data table notebook</a>'\n",
              "          + ' to learn more about interactive tables.';\n",
              "        element.innerHTML = '';\n",
              "        dataTable['output_type'] = 'display_data';\n",
              "        await google.colab.output.renderOutput(dataTable, element);\n",
              "        const docLink = document.createElement('div');\n",
              "        docLink.innerHTML = docLinkHtml;\n",
              "        element.appendChild(docLink);\n",
              "      }\n",
              "    </script>\n",
              "  </div>\n",
              "\n",
              "\n",
              "<div id=\"df-1a9141d4-c1e0-40f1-a664-505ab2e59845\">\n",
              "  <button class=\"colab-df-quickchart\" onclick=\"quickchart('df-1a9141d4-c1e0-40f1-a664-505ab2e59845')\"\n",
              "            title=\"Suggest charts\"\n",
              "            style=\"display:none;\">\n",
              "\n",
              "<svg xmlns=\"http://www.w3.org/2000/svg\" height=\"24px\"viewBox=\"0 0 24 24\"\n",
              "     width=\"24px\">\n",
              "    <g>\n",
              "        <path d=\"M19 3H5c-1.1 0-2 .9-2 2v14c0 1.1.9 2 2 2h14c1.1 0 2-.9 2-2V5c0-1.1-.9-2-2-2zM9 17H7v-7h2v7zm4 0h-2V7h2v10zm4 0h-2v-4h2v4z\"/>\n",
              "    </g>\n",
              "</svg>\n",
              "  </button>\n",
              "\n",
              "<style>\n",
              "  .colab-df-quickchart {\n",
              "      --bg-color: #E8F0FE;\n",
              "      --fill-color: #1967D2;\n",
              "      --hover-bg-color: #E2EBFA;\n",
              "      --hover-fill-color: #174EA6;\n",
              "      --disabled-fill-color: #AAA;\n",
              "      --disabled-bg-color: #DDD;\n",
              "  }\n",
              "\n",
              "  [theme=dark] .colab-df-quickchart {\n",
              "      --bg-color: #3B4455;\n",
              "      --fill-color: #D2E3FC;\n",
              "      --hover-bg-color: #434B5C;\n",
              "      --hover-fill-color: #FFFFFF;\n",
              "      --disabled-bg-color: #3B4455;\n",
              "      --disabled-fill-color: #666;\n",
              "  }\n",
              "\n",
              "  .colab-df-quickchart {\n",
              "    background-color: var(--bg-color);\n",
              "    border: none;\n",
              "    border-radius: 50%;\n",
              "    cursor: pointer;\n",
              "    display: none;\n",
              "    fill: var(--fill-color);\n",
              "    height: 32px;\n",
              "    padding: 0;\n",
              "    width: 32px;\n",
              "  }\n",
              "\n",
              "  .colab-df-quickchart:hover {\n",
              "    background-color: var(--hover-bg-color);\n",
              "    box-shadow: 0 1px 2px rgba(60, 64, 67, 0.3), 0 1px 3px 1px rgba(60, 64, 67, 0.15);\n",
              "    fill: var(--button-hover-fill-color);\n",
              "  }\n",
              "\n",
              "  .colab-df-quickchart-complete:disabled,\n",
              "  .colab-df-quickchart-complete:disabled:hover {\n",
              "    background-color: var(--disabled-bg-color);\n",
              "    fill: var(--disabled-fill-color);\n",
              "    box-shadow: none;\n",
              "  }\n",
              "\n",
              "  .colab-df-spinner {\n",
              "    border: 2px solid var(--fill-color);\n",
              "    border-color: transparent;\n",
              "    border-bottom-color: var(--fill-color);\n",
              "    animation:\n",
              "      spin 1s steps(1) infinite;\n",
              "  }\n",
              "\n",
              "  @keyframes spin {\n",
              "    0% {\n",
              "      border-color: transparent;\n",
              "      border-bottom-color: var(--fill-color);\n",
              "      border-left-color: var(--fill-color);\n",
              "    }\n",
              "    20% {\n",
              "      border-color: transparent;\n",
              "      border-left-color: var(--fill-color);\n",
              "      border-top-color: var(--fill-color);\n",
              "    }\n",
              "    30% {\n",
              "      border-color: transparent;\n",
              "      border-left-color: var(--fill-color);\n",
              "      border-top-color: var(--fill-color);\n",
              "      border-right-color: var(--fill-color);\n",
              "    }\n",
              "    40% {\n",
              "      border-color: transparent;\n",
              "      border-right-color: var(--fill-color);\n",
              "      border-top-color: var(--fill-color);\n",
              "    }\n",
              "    60% {\n",
              "      border-color: transparent;\n",
              "      border-right-color: var(--fill-color);\n",
              "    }\n",
              "    80% {\n",
              "      border-color: transparent;\n",
              "      border-right-color: var(--fill-color);\n",
              "      border-bottom-color: var(--fill-color);\n",
              "    }\n",
              "    90% {\n",
              "      border-color: transparent;\n",
              "      border-bottom-color: var(--fill-color);\n",
              "    }\n",
              "  }\n",
              "</style>\n",
              "\n",
              "  <script>\n",
              "    async function quickchart(key) {\n",
              "      const quickchartButtonEl =\n",
              "        document.querySelector('#' + key + ' button');\n",
              "      quickchartButtonEl.disabled = true;  // To prevent multiple clicks.\n",
              "      quickchartButtonEl.classList.add('colab-df-spinner');\n",
              "      try {\n",
              "        const charts = await google.colab.kernel.invokeFunction(\n",
              "            'suggestCharts', [key], {});\n",
              "      } catch (error) {\n",
              "        console.error('Error during call to suggestCharts:', error);\n",
              "      }\n",
              "      quickchartButtonEl.classList.remove('colab-df-spinner');\n",
              "      quickchartButtonEl.classList.add('colab-df-quickchart-complete');\n",
              "    }\n",
              "    (() => {\n",
              "      let quickchartButtonEl =\n",
              "        document.querySelector('#df-1a9141d4-c1e0-40f1-a664-505ab2e59845 button');\n",
              "      quickchartButtonEl.style.display =\n",
              "        google.colab.kernel.accessAllowed ? 'block' : 'none';\n",
              "    })();\n",
              "  </script>\n",
              "</div>\n",
              "\n",
              "    </div>\n",
              "  </div>\n"
            ],
            "application/vnd.google.colaboratory.intrinsic+json": {
              "type": "dataframe",
              "variable_name": "adv_dataset",
              "summary": "{\n  \"name\": \"adv_dataset\",\n  \"rows\": 200,\n  \"fields\": [\n    {\n      \"column\": \"TV\",\n      \"properties\": {\n        \"dtype\": \"number\",\n        \"std\": 85.8542363149081,\n        \"min\": 0.7,\n        \"max\": 296.4,\n        \"num_unique_values\": 190,\n        \"samples\": [\n          287.6,\n          286.0,\n          78.2\n        ],\n        \"semantic_type\": \"\",\n        \"description\": \"\"\n      }\n    },\n    {\n      \"column\": \"Radio\",\n      \"properties\": {\n        \"dtype\": \"number\",\n        \"std\": 14.846809176168723,\n        \"min\": 0.0,\n        \"max\": 49.6,\n        \"num_unique_values\": 167,\n        \"samples\": [\n          8.2,\n          36.9,\n          44.5\n        ],\n        \"semantic_type\": \"\",\n        \"description\": \"\"\n      }\n    },\n    {\n      \"column\": \"Newspaper\",\n      \"properties\": {\n        \"dtype\": \"number\",\n        \"std\": 21.778620838522833,\n        \"min\": 0.3,\n        \"max\": 114.0,\n        \"num_unique_values\": 172,\n        \"samples\": [\n          22.3,\n          5.7,\n          17.0\n        ],\n        \"semantic_type\": \"\",\n        \"description\": \"\"\n      }\n    },\n    {\n      \"column\": \"Sales\",\n      \"properties\": {\n        \"dtype\": \"number\",\n        \"std\": 5.283892252561874,\n        \"min\": 1.6,\n        \"max\": 27.0,\n        \"num_unique_values\": 121,\n        \"samples\": [\n          19.8,\n          22.6,\n          17.9\n        ],\n        \"semantic_type\": \"\",\n        \"description\": \"\"\n      }\n    }\n  ]\n}"
            }
          },
          "metadata": {},
          "execution_count": 5
        }
      ],
      "source": [
        "import matplotlib.pyplot as plt\n",
        "import torch.nn as nn\n",
        "import torch\n",
        "import numpy as np\n",
        "import pandas as pd\n",
        "\n",
        "adv_dataset=pd.read_csv('./advertising.csv')\n",
        "adv_dataset.head()"
      ]
    },
    {
      "cell_type": "code",
      "source": [
        "print(adv_dataset.head())  # Check the first few rows of the dataset\n",
        "print(adv_dataset.info())  # Confirm columns, data types, and non-null values"
      ],
      "metadata": {
        "colab": {
          "base_uri": "https://localhost:8080/"
        },
        "id": "vTF30-NUAMwq",
        "outputId": "6737dc19-b527-4c6f-fc18-251e963ea778"
      },
      "execution_count": 8,
      "outputs": [
        {
          "output_type": "stream",
          "name": "stdout",
          "text": [
            "      TV  Radio  Newspaper  Sales\n",
            "0  230.1   37.8       69.2   22.1\n",
            "1   44.5   39.3       45.1   10.4\n",
            "2   17.2   45.9       69.3   12.0\n",
            "3  151.5   41.3       58.5   16.5\n",
            "4  180.8   10.8       58.4   17.9\n",
            "<class 'pandas.core.frame.DataFrame'>\n",
            "RangeIndex: 200 entries, 0 to 199\n",
            "Data columns (total 4 columns):\n",
            " #   Column     Non-Null Count  Dtype  \n",
            "---  ------     --------------  -----  \n",
            " 0   TV         200 non-null    float64\n",
            " 1   Radio      200 non-null    float64\n",
            " 2   Newspaper  200 non-null    float64\n",
            " 3   Sales      200 non-null    float64\n",
            "dtypes: float64(4)\n",
            "memory usage: 6.4 KB\n",
            "None\n"
          ]
        }
      ]
    },
    {
      "cell_type": "code",
      "source": [
        "# TODO: (1.5 points, details are given below):\n",
        "#-- this part i.e., part 1 TODO is divided into 3 code cells for easier implementation\n",
        "\n",
        "# get the relevant data from the adv_dataset dataframe and assign them to the Tensors x (feature variables) and y (target)  (0.5 point)\n",
        "# YOUR CODE HERE\n",
        "\n",
        "features = ['TV', 'Radio', 'Newspaper']  # Replace with actual feature column names\n",
        "target = 'Sales'  # Replace with the actual target column name\n",
        "\n",
        "x = torch.tensor(adv_dataset[features].values, dtype=torch.float32)\n",
        "y = torch.tensor(adv_dataset[target].values, dtype=torch.float32)\n",
        "print(x.size(), y.size())"
      ],
      "metadata": {
        "colab": {
          "base_uri": "https://localhost:8080/"
        },
        "id": "tR2gK7WeAXqC",
        "outputId": "cd0d22eb-c425-4edd-a1cd-0942e22713eb"
      },
      "execution_count": 9,
      "outputs": [
        {
          "output_type": "stream",
          "name": "stdout",
          "text": [
            "torch.Size([200, 3]) torch.Size([200])\n"
          ]
        }
      ]
    },
    {
      "cell_type": "code",
      "source": [
        "# divide the data in a train set (80% of the data) and test set (20% of the data). Resulting in x_train, x_test, y_train, y_test (0.5 point)\n",
        "# YOUR CODE HERE\n",
        "\n",
        "from sklearn.model_selection import train_test_split\n",
        "\n",
        "x_train, x_test, y_train, y_test = train_test_split(\n",
        "    x, y, test_size=0.2, random_state=42\n",
        ")\n",
        "\n",
        "print(x_train.size(), y_train.size())\n",
        "print(x_test.size(), y_test.size())"
      ],
      "metadata": {
        "colab": {
          "base_uri": "https://localhost:8080/"
        },
        "id": "EFgUrsShDF9O",
        "outputId": "9d1d28f8-c377-4893-c967-7ef6d55c5f98"
      },
      "execution_count": 10,
      "outputs": [
        {
          "output_type": "stream",
          "name": "stdout",
          "text": [
            "torch.Size([160, 3]) torch.Size([160])\n",
            "torch.Size([40, 3]) torch.Size([40])\n"
          ]
        }
      ]
    },
    {
      "cell_type": "code",
      "source": [
        "print(x.shape)  # Should be (num_samples, num_features)\n",
        "print(y.shape)  # Should be (num_samples,)"
      ],
      "metadata": {
        "colab": {
          "base_uri": "https://localhost:8080/"
        },
        "id": "j5AMrxf9DIi9",
        "outputId": "f73a22f0-ca05-434b-c14b-1a9cc574b9b9"
      },
      "execution_count": 11,
      "outputs": [
        {
          "output_type": "stream",
          "name": "stdout",
          "text": [
            "torch.Size([200, 3])\n",
            "torch.Size([200])\n"
          ]
        }
      ]
    },
    {
      "cell_type": "code",
      "source": [
        "# plot the first feature 'TV' in relationship with the target y. Train and test data should be in a single figure with two different colors (0.5 point)\n",
        "# YOUR CODE HERE\n",
        "\n",
        "# Plotting 'TV' vs 'Sales' for both training and testing sets\n",
        "plt.figure(figsize=(10, 6))\n",
        "\n",
        "# Plot for training data\n",
        "plt.scatter(x_train[:, 0], y_train, color='blue', label='Train Data')\n",
        "\n",
        "# Plot for testing data\n",
        "plt.scatter(x_test[:, 0], y_test, color='red', label='Test Data')\n",
        "\n",
        "plt.xlabel('TV')\n",
        "plt.ylabel('Sales')\n",
        "plt.title('TV vs Sales (Train and Test Data)')\n",
        "plt.legend()\n",
        "plt.show()"
      ],
      "metadata": {
        "colab": {
          "base_uri": "https://localhost:8080/",
          "height": 564
        },
        "id": "dGXR_5uTGVqe",
        "outputId": "deb29229-9a37-4306-dac0-ebae3ebc3f12"
      },
      "execution_count": 12,
      "outputs": [
        {
          "output_type": "display_data",
          "data": {
            "text/plain": [
              "<Figure size 1000x600 with 1 Axes>"
            ],
            "image/png": "[encoded data removed]"
          },
          "metadata": {}
        }
      ]
    },
    {
      "cell_type": "markdown",
      "metadata": {
        "id": "kmXR66Y9pt7c"
      },
      "source": [
        "## Part 2. Solving the linear regression problem in Pytorch using Gradient Descent Algorithm\n",
        "Congratulations you have prepared the data correctly! Now we will move onto creating our model and training it."
      ]
    },
    {
      "cell_type": "markdown",
      "metadata": {
        "id": "5hecfAEBpt7c"
      },
      "source": [
        "### 2.1 Model\n",
        "In this part, you will define your own model class. To do that, you have to remember the following rules:\n",
        "1. The model class should be inherited from [`nn.Module`](https://pytorch.org/docs/stable/generated/torch.nn.Module.html#torch.nn.Module);\n",
        "2. Re-write the **\\_\\_init\\_\\_** function and the **forward** function;\n",
        "3. In the **\\_\\_init\\_\\_** function, you should always call the parent's **\\_\\_init\\_\\_** function first.\n",
        "4. Don't use the nn.Linear() layer, implement it yourself.\n",
        "5. Use 1 tensor to define w (not 3) and 1 tensor to define b.\n",
        "6. Only torch functions and no iterations inside the model.\n",
        "\n",
        "To make it simpler, since we are using a linear function to approximate the phenomenon that generated the data, our function will be:\n",
        "\n",
        "\\begin{align*}\n",
        "y = w^T x + b\n",
        "\\end{align*}\n",
        "\n",
        "Therefore, in the model, we need to set 2 parameters: $w$, $b$"
      ]
    },
    {
      "cell_type": "code",
      "execution_count": 14,
      "metadata": {
        "colab": {
          "base_uri": "https://localhost:8080/"
        },
        "id": "ednTYFBSpt7c",
        "outputId": "d4a627ec-a012-4032-fda1-a5ad0bb8c0e7"
      },
      "outputs": [
        {
          "output_type": "stream",
          "name": "stdout",
          "text": [
            "LinearRegressionModel()\n"
          ]
        }
      ],
      "source": [
        "# TODO (1.5 points, details are given below)\n",
        "import torch.nn as nn\n",
        "\n",
        "\n",
        "# define a class (0.5) + write the __init__ function (0.5 point) + write the forward function (0.5 points)\n",
        "\n",
        "# YOUR CODE HERE\n",
        "import torch\n",
        "import torch.nn as nn\n",
        "\n",
        "# Define the model class\n",
        "class LinearRegressionModel(nn.Module):\n",
        "    def __init__(self):\n",
        "        # Call the parent class (nn.Module) constructor\n",
        "        super(LinearRegressionModel, self).__init__()\n",
        "\n",
        "        # Define the weights (w) and bias (b) as tensors\n",
        "        # w is a tensor with shape (3, 1), since we have 3 features\n",
        "        self.w = torch.randn(3, 1, requires_grad=True)\n",
        "        # b is a tensor with shape (1, )\n",
        "        self.b = torch.randn(1, requires_grad=True)\n",
        "\n",
        "    def forward(self, x):\n",
        "        # Linear regression equation: y = w^T * x + b\n",
        "        return torch.matmul(x, self.w) + self.b\n",
        "\n",
        "# Instantiate the model\n",
        "model = LinearRegressionModel()\n",
        "\n",
        "# Print the model to check if it's implemented correctly\n",
        "print(model)\n"
      ]
    },
    {
      "cell_type": "markdown",
      "source": [
        "continuing the process step by step:"
      ],
      "metadata": {
        "id": "18m1cJaon33c"
      }
    },
    {
      "cell_type": "code",
      "source": [
        "import torch\n",
        "import torch.nn as nn\n",
        "\n",
        "# Define the model class\n",
        "class LinearRegressionModel(nn.Module):\n",
        "    def __init__(self, input_size=3):  # Assuming 3 features\n",
        "        super(LinearRegressionModel, self).__init__()\n",
        "        self.linear = nn.Linear(input_size, 1)  # Linear layer with 3 inputs and 1 output\n",
        "\n",
        "    def forward(self, x):\n",
        "        return self.linear(x)"
      ],
      "metadata": {
        "id": "wTig68gTngqQ"
      },
      "execution_count": 1,
      "outputs": []
    },
    {
      "cell_type": "code",
      "source": [
        "# Initialize the model and optimizer\n",
        "model = LinearRegressionModel(input_size=3)  # Ensure input_size matches the features in your data\n",
        "\n",
        "# Set a workable learning rate\n",
        "learning_rate = 0.001\n",
        "optimizer = optim.SGD(model.parameters(), lr=learning_rate)\n",
        "print(\"Optimizer initialized successfully.\")"
      ],
      "metadata": {
        "colab": {
          "base_uri": "https://localhost:8080/"
        },
        "id": "xuFg1SVOniKO",
        "outputId": "259ff712-24af-4a57-bd2b-3aef9db07556"
      },
      "execution_count": 5,
      "outputs": [
        {
          "output_type": "stream",
          "name": "stdout",
          "text": [
            "Optimizer initialized successfully.\n"
          ]
        }
      ]
    },
    {
      "cell_type": "code",
      "source": [
        "print(\"Model parameters:\", list(model.parameters()))"
      ],
      "metadata": {
        "colab": {
          "base_uri": "https://localhost:8080/"
        },
        "id": "CK9sgX31nmsq",
        "outputId": "566866be-85e3-4bbb-9daf-7f3bc29a8106"
      },
      "execution_count": 3,
      "outputs": [
        {
          "output_type": "stream",
          "name": "stdout",
          "text": [
            "Model parameters: [Parameter containing:\n",
            "tensor([[-0.3556, -0.1964, -0.0845]], requires_grad=True), Parameter containing:\n",
            "tensor([0.3337], requires_grad=True)]\n"
          ]
        }
      ]
    },
    {
      "cell_type": "code",
      "source": [
        "import torch.optim as optim\n",
        "\n",
        "learning_rate = 0.001\n",
        "optimizer = optim.SGD(model.parameters(), lr=learning_rate)\n",
        "print(\"Optimizer initialized successfully.\")"
      ],
      "metadata": {
        "colab": {
          "base_uri": "https://localhost:8080/"
        },
        "id": "iQR3lnQSnpdv",
        "outputId": "da2642d0-df0d-42ac-e30c-fdbe9e78e12c"
      },
      "execution_count": 4,
      "outputs": [
        {
          "output_type": "stream",
          "name": "stdout",
          "text": [
            "Optimizer initialized successfully.\n"
          ]
        }
      ]
    },
    {
      "cell_type": "markdown",
      "metadata": {
        "id": "_YZlvtKVpt7c"
      },
      "source": [
        "### 2.2 Training\n",
        "Here, you will train your model based on the training data and evaluate the model on testing data.\n",
        "1. Set proper number of iterations and learning rate.\n",
        "2. Remember to use a proper optimizer (you may have many choices: Adam, SGD, RMSprop, ... please find the detailed information in https://pytorch.org/docs/stable/optim.html and know how to use them).\n",
        "3. In order to train the model, a loss function should be defined:\n",
        "\\begin{align*}\n",
        "loss = \\frac{1}{N}\\sum_{i=1}^{N}|f_i - y_i|,\n",
        "\\end{align*}\n",
        "where, $f_i$ is the output of the model and $N$ is the number of training data pairs.\n",
        "4. The model must be trained only using training data.\n",
        "5. Remember to clear the old gradients of parameters before a new backward propagation.\n",
        "6. In every certain number of iterations, print the values of the parameters, the training loss, and the testing loss.\n",
        "7. Meanwhile, please track the training loss and the testing loss in each iteration. Once the training is done, the curves of losses should be plotted (two curves are drawn in the same figure, where x axis indicates iterations and y axis indicates the losses).\n",
        "8. Lastly, draw all the training data, testing data and the curve of the trained model in the same figure (use different showing styles to distinguish them)."
      ]
    },
    {
      "cell_type": "code",
      "source": [
        "# TODO (1.5 points, details are given below)\n",
        "\n",
        "# define a class (0.5) + write the __init__ function (0.5 point) + write the forward function (0.5 points)\n",
        "\n",
        "# YOUR CODE HERE\n",
        "\n",
        "import torch.nn as nn\n",
        "import torch.optim as optim\n",
        "import torch\n",
        "\n",
        "# Define the loss function (Mean Squared Error for regression)\n",
        "criterion = nn.MSELoss()\n",
        "\n",
        "# have the training and testing data:\n",
        "# x_train, y_train, x_test, y_test\n",
        "# Ensure they are tensors with appropriate shapes\n",
        "# For example:\n",
        "# x_train = torch.randn(160, 3)  # 160 samples, 3 features\n",
        "# y_train = torch.randn(160, 1)  # 160 target values\n",
        "# x_test = torch.randn(40, 3)    # 40 testing samples, 3 features\n",
        "# y_test = torch.randn(40, 1)    # 40 target testing values\n",
        "\n",
        "# Training loop setup\n",
        "n_itr = 10000  # Number of iterations for training\n",
        "training_losses = []  # To track training loss\n",
        "testing_losses = []  # To track testing loss\n",
        "\n",
        "for i in range(n_itr):\n",
        "    # Train mode (forward propagation)\n",
        "    model.train()\n",
        "    y_pred = model(x_train)  # Forward pass: predicted values\n",
        "\n",
        "    # Calculate training loss\n",
        "    loss = criterion(y_pred, y_train)\n",
        "    training_losses.append(loss.item())  # Store the training loss\n",
        "\n",
        "    # Backward propagation (gradient calculation and weight update)\n",
        "    optimizer.zero_grad()  # Clear previous gradients\n",
        "    loss.backward()  # Compute gradients\n",
        "    optimizer.step()  # Update weights\n",
        "\n",
        "    # Evaluate on the test set\n",
        "    model.eval()  # Set the model to evaluation mode\n",
        "    with torch.no_grad():  # Disable gradient tracking during evaluation\n",
        "        y_test_pred = model(x_test)  # Forward pass on test data\n",
        "        test_loss = criterion(y_test_pred, y_test)  # Calculate test loss\n",
        "    testing_losses.append(test_loss.item())  # Store the test loss\n",
        "\n",
        "    # Print intermediate results every 100 iterations\n",
        "    if i % 100 == 1:\n",
        "        print(f'Iteration: {i:04d} | Training loss: {loss.item():.6f} | Testing loss: {test_loss.item():.6f}')\n",
        "\n",
        "# plot the traing losses and testing losses (0.5 point)\n",
        "# YOUR CODE HERE\n",
        "# visualizing the training and testing losses\n",
        "import matplotlib.pyplot as plt\n",
        "\n",
        "plt.plot(range(n_itr), training_losses, label='Training Loss')\n",
        "plt.plot(range(n_itr), testing_losses, label='Testing Loss')\n",
        "plt.xlabel('Iterations')\n",
        "plt.ylabel('Loss')\n",
        "plt.legend()\n",
        "plt.title('Training and Testing Loss over Iterations')\n",
        "plt.show()"
      ],
      "metadata": {
        "colab": {
          "base_uri": "https://localhost:8080/",
          "height": 1000
        },
        "id": "L07LYIDPvocX",
        "outputId": "5cd8350e-0406-4052-9265-f6da5ce27dd6"
      },
      "execution_count": 29,
      "outputs": [
        {
          "output_type": "stream",
          "name": "stderr",
          "text": [
            "/usr/local/lib/python3.10/dist-packages/torch/nn/modules/loss.py:608: UserWarning: Using a target size (torch.Size([160])) that is different to the input size (torch.Size([160, 1])). This will likely lead to incorrect results due to broadcasting. Please ensure they have the same size.\n",
            "  return F.mse_loss(input, target, reduction=self.reduction)\n",
            "/usr/local/lib/python3.10/dist-packages/torch/nn/modules/loss.py:608: UserWarning: Using a target size (torch.Size([40])) that is different to the input size (torch.Size([40, 1])). This will likely lead to incorrect results due to broadcasting. Please ensure they have the same size.\n",
            "  return F.mse_loss(input, target, reduction=self.reduction)\n"
          ]
        },
        {
          "output_type": "stream",
          "name": "stdout",
          "text": [
            "Iteration: 0001 | Training loss: 35623152.000000 | Testing loss: 117766643712.000000\n",
            "Iteration: 0101 | Training loss: nan | Testing loss: nan\n",
            "Iteration: 0201 | Training loss: nan | Testing loss: nan\n",
            "Iteration: 0301 | Training loss: nan | Testing loss: nan\n",
            "Iteration: 0401 | Training loss: nan | Testing loss: nan\n",
            "Iteration: 0501 | Training loss: nan | Testing loss: nan\n",
            "Iteration: 0601 | Training loss: nan | Testing loss: nan\n",
            "Iteration: 0701 | Training loss: nan | Testing loss: nan\n",
            "Iteration: 0801 | Training loss: nan | Testing loss: nan\n",
            "Iteration: 0901 | Training loss: nan | Testing loss: nan\n",
            "Iteration: 1001 | Training loss: nan | Testing loss: nan\n",
            "Iteration: 1101 | Training loss: nan | Testing loss: nan\n",
            "Iteration: 1201 | Training loss: nan | Testing loss: nan\n",
            "Iteration: 1301 | Training loss: nan | Testing loss: nan\n",
            "Iteration: 1401 | Training loss: nan | Testing loss: nan\n",
            "Iteration: 1501 | Training loss: nan | Testing loss: nan\n",
            "Iteration: 1601 | Training loss: nan | Testing loss: nan\n",
            "Iteration: 1701 | Training loss: nan | Testing loss: nan\n",
            "Iteration: 1801 | Training loss: nan | Testing loss: nan\n",
            "Iteration: 1901 | Training loss: nan | Testing loss: nan\n",
            "Iteration: 2001 | Training loss: nan | Testing loss: nan\n",
            "Iteration: 2101 | Training loss: nan | Testing loss: nan\n",
            "Iteration: 2201 | Training loss: nan | Testing loss: nan\n",
            "Iteration: 2301 | Training loss: nan | Testing loss: nan\n",
            "Iteration: 2401 | Training loss: nan | Testing loss: nan\n",
            "Iteration: 2501 | Training loss: nan | Testing loss: nan\n",
            "Iteration: 2601 | Training loss: nan | Testing loss: nan\n",
            "Iteration: 2701 | Training loss: nan | Testing loss: nan\n",
            "Iteration: 2801 | Training loss: nan | Testing loss: nan\n",
            "Iteration: 2901 | Training loss: nan | Testing loss: nan\n",
            "Iteration: 3001 | Training loss: nan | Testing loss: nan\n",
            "Iteration: 3101 | Training loss: nan | Testing loss: nan\n",
            "Iteration: 3201 | Training loss: nan | Testing loss: nan\n",
            "Iteration: 3301 | Training loss: nan | Testing loss: nan\n",
            "Iteration: 3401 | Training loss: nan | Testing loss: nan\n",
            "Iteration: 3501 | Training loss: nan | Testing loss: nan\n",
            "Iteration: 3601 | Training loss: nan | Testing loss: nan\n",
            "Iteration: 3701 | Training loss: nan | Testing loss: nan\n",
            "Iteration: 3801 | Training loss: nan | Testing loss: nan\n",
            "Iteration: 3901 | Training loss: nan | Testing loss: nan\n",
            "Iteration: 4001 | Training loss: nan | Testing loss: nan\n",
            "Iteration: 4101 | Training loss: nan | Testing loss: nan\n",
            "Iteration: 4201 | Training loss: nan | Testing loss: nan\n",
            "Iteration: 4301 | Training loss: nan | Testing loss: nan\n",
            "Iteration: 4401 | Training loss: nan | Testing loss: nan\n",
            "Iteration: 4501 | Training loss: nan | Testing loss: nan\n",
            "Iteration: 4601 | Training loss: nan | Testing loss: nan\n",
            "Iteration: 4701 | Training loss: nan | Testing loss: nan\n",
            "Iteration: 4801 | Training loss: nan | Testing loss: nan\n",
            "Iteration: 4901 | Training loss: nan | Testing loss: nan\n",
            "Iteration: 5001 | Training loss: nan | Testing loss: nan\n",
            "Iteration: 5101 | Training loss: nan | Testing loss: nan\n",
            "Iteration: 5201 | Training loss: nan | Testing loss: nan\n",
            "Iteration: 5301 | Training loss: nan | Testing loss: nan\n",
            "Iteration: 5401 | Training loss: nan | Testing loss: nan\n",
            "Iteration: 5501 | Training loss: nan | Testing loss: nan\n",
            "Iteration: 5601 | Training loss: nan | Testing loss: nan\n",
            "Iteration: 5701 | Training loss: nan | Testing loss: nan\n",
            "Iteration: 5801 | Training loss: nan | Testing loss: nan\n",
            "Iteration: 5901 | Training loss: nan | Testing loss: nan\n",
            "Iteration: 6001 | Training loss: nan | Testing loss: nan\n",
            "Iteration: 6101 | Training loss: nan | Testing loss: nan\n",
            "Iteration: 6201 | Training loss: nan | Testing loss: nan\n",
            "Iteration: 6301 | Training loss: nan | Testing loss: nan\n",
            "Iteration: 6401 | Training loss: nan | Testing loss: nan\n",
            "Iteration: 6501 | Training loss: nan | Testing loss: nan\n",
            "Iteration: 6601 | Training loss: nan | Testing loss: nan\n",
            "Iteration: 6701 | Training loss: nan | Testing loss: nan\n",
            "Iteration: 6801 | Training loss: nan | Testing loss: nan\n",
            "Iteration: 6901 | Training loss: nan | Testing loss: nan\n",
            "Iteration: 7001 | Training loss: nan | Testing loss: nan\n",
            "Iteration: 7101 | Training loss: nan | Testing loss: nan\n",
            "Iteration: 7201 | Training loss: nan | Testing loss: nan\n",
            "Iteration: 7301 | Training loss: nan | Testing loss: nan\n",
            "Iteration: 7401 | Training loss: nan | Testing loss: nan\n",
            "Iteration: 7501 | Training loss: nan | Testing loss: nan\n",
            "Iteration: 7601 | Training loss: nan | Testing loss: nan\n",
            "Iteration: 7701 | Training loss: nan | Testing loss: nan\n",
            "Iteration: 7801 | Training loss: nan | Testing loss: nan\n",
            "Iteration: 7901 | Training loss: nan | Testing loss: nan\n",
            "Iteration: 8001 | Training loss: nan | Testing loss: nan\n",
            "Iteration: 8101 | Training loss: nan | Testing loss: nan\n",
            "Iteration: 8201 | Training loss: nan | Testing loss: nan\n",
            "Iteration: 8301 | Training loss: nan | Testing loss: nan\n",
            "Iteration: 8401 | Training loss: nan | Testing loss: nan\n",
            "Iteration: 8501 | Training loss: nan | Testing loss: nan\n",
            "Iteration: 8601 | Training loss: nan | Testing loss: nan\n",
            "Iteration: 8701 | Training loss: nan | Testing loss: nan\n",
            "Iteration: 8801 | Training loss: nan | Testing loss: nan\n",
            "Iteration: 8901 | Training loss: nan | Testing loss: nan\n",
            "Iteration: 9001 | Training loss: nan | Testing loss: nan\n",
            "Iteration: 9101 | Training loss: nan | Testing loss: nan\n",
            "Iteration: 9201 | Training loss: nan | Testing loss: nan\n",
            "Iteration: 9301 | Training loss: nan | Testing loss: nan\n",
            "Iteration: 9401 | Training loss: nan | Testing loss: nan\n",
            "Iteration: 9501 | Training loss: nan | Testing loss: nan\n",
            "Iteration: 9601 | Training loss: nan | Testing loss: nan\n",
            "Iteration: 9701 | Training loss: nan | Testing loss: nan\n",
            "Iteration: 9801 | Training loss: nan | Testing loss: nan\n",
            "Iteration: 9901 | Training loss: nan | Testing loss: nan\n"
          ]
        },
        {
          "output_type": "display_data",
          "data": {
            "text/plain": [
              "<Figure size 640x480 with 1 Axes>"
            ],
            "image/png": "[encoded data removed]"
          },
          "metadata": {}
        }
      ]
    },
    {
      "cell_type": "code",
      "source": [
        "# plot the traing losses and testing losses (0.5 point)\n",
        "# YOUR CODE HERE\n",
        "\n",
        "# ploting the training losses and testing losses (0.5 point)\n",
        "plt.plot(training_losses, label='Training Loss', color='blue')\n",
        "plt.plot(testing_losses, label='Testing Loss', color='red')\n",
        "\n",
        "# Adding labels and a title\n",
        "plt.xlabel('Iterations')\n",
        "plt.ylabel('Loss')\n",
        "plt.title('Training and Testing Loss Over Iterations')\n",
        "\n",
        "# Show the legend to differentiate between the training and testing losses\n",
        "plt.legend()\n",
        "\n",
        "# Display the plot\n",
        "plt.show()"
      ],
      "metadata": {
        "colab": {
          "base_uri": "https://localhost:8080/",
          "height": 472
        },
        "id": "da5V1ZB614eI",
        "outputId": "f0cb40c4-31df-4f6d-b08d-14c0589e1e1c"
      },
      "execution_count": 30,
      "outputs": [
        {
          "output_type": "display_data",
          "data": {
            "text/plain": [
              "<Figure size 640x480 with 1 Axes>"
            ],
            "image/png": "[encoded data removed]"
          },
          "metadata": {}
        }
      ]
    },
    {
      "cell_type": "code",
      "source": [
        "# As our model contains a 3 dimensionsional input, we will only plot the relationship between the first variable 'tv' and the target.\n",
        "# Again plot the train and test data (from Part1), and add a line where the slope and axis intercept are taken from the model parameters w and b\n",
        "# (0.5 point)\n",
        "\n",
        "# YOUR CODE HERE\n",
        "\n",
        "# Extracting the learned parameters from the model (w and b)\n",
        "w_tv = model.linear.weight[0, 0].item()  # Weight for 'tv' feature (first feature)\n",
        "b = model.linear.bias.item()              # Intercept (bias)\n",
        "\n",
        "# Ploting the training and testing data (from Part 1)\n",
        "plt.scatter(x_train[:, 0], y_train, color='blue', label='Train Data')\n",
        "plt.scatter(x_test[:, 0], y_test, color='red', label='Test Data')\n",
        "\n",
        "# Ploting the regression line based on the learned parameters (w_tv and b)\n",
        "# y = w_tv * tv + b\n",
        "tv_range = torch.linspace(x_train[:, 0].min(), x_train[:, 0].max(), 100).reshape(-1, 1)  # Generate a range of values for 'tv'\n",
        "y_range = w_tv * tv_range + b  # Calculate the corresponding target values (y)\n",
        "\n",
        "# Ploting the regression line\n",
        "plt.plot(tv_range.numpy(), y_range.detach().numpy(), color='green', label=f'Linear Model: y = {w_tv:.2f} * tv + {b:.2f}')\n",
        "\n",
        "# Adding labels and title\n",
        "plt.xlabel('TV')\n",
        "plt.ylabel('Target')\n",
        "plt.title('Relationship between TV and Target')\n",
        "\n",
        "# Display the legend\n",
        "plt.legend()\n",
        "\n",
        "# Display the plot\n",
        "plt.show()"
      ],
      "metadata": {
        "colab": {
          "base_uri": "https://localhost:8080/",
          "height": 472
        },
        "id": "z6TjdbEj2JnU",
        "outputId": "28ed980c-fbbd-40ab-ffa4-bcc102d995c0"
      },
      "execution_count": 32,
      "outputs": [
        {
          "output_type": "display_data",
          "data": {
            "text/plain": [
              "<Figure size 640x480 with 1 Axes>"
            ],
            "image/png": "[encoded data removed]"
          },
          "metadata": {}
        }
      ]
    }
  ],
  "metadata": {
    "kernelspec": {
      "display_name": "Python 3 (ipykernel)",
      "language": "python",
      "name": "python3"
    },
    "language_info": {
      "codemirror_mode": {
        "name": "ipython",
        "version": 3
      },
      "file_extension": ".py",
      "mimetype": "text/x-python",
      "name": "python",
      "nbconvert_exporter": "python",
      "pygments_lexer": "ipython3",
      "version": "3.10.9"
    },
    "colab": {
      "provenance": [],
      "include_colab_link": true
    }
  },
  "nbformat": 4,
  "nbformat_minor": 0
}