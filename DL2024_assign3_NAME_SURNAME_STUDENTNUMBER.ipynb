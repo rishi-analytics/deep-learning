{
  "cells": [
    {
      "cell_type": "markdown",
      "metadata": {
        "id": "view-in-github",
        "colab_type": "text"
      },
      "source": [
        "<a href=\"https://colab.research.google.com/github/rishi-analytics/deep-learning/blob/main/DL2024_assign3_NAME_SURNAME_STUDENTNUMBER.ipynb\" target=\"_parent\"><img src=\"https://colab.research.google.com/assets/colab-badge.svg\" alt=\"Open In Colab\"/></a>"
      ]
    },
    {
      "cell_type": "markdown",
      "metadata": {
        "id": "C_BrofEGGF1U"
      },
      "source": [
        "# 521153S Deep Learning assignment 3: Training CNN networks\n",
        "\n"
      ]
    },
    {
      "cell_type": "markdown",
      "source": [
        "# **Fashion-MNIST CNN Implementation**\n",
        "\n",
        "## **Overview**\n",
        "This project demonstrates the implementation of a Convolutional Neural Network (CNN) using PyTorch to classify images from the Fashion-MNIST dataset. The project is structured to highlight key principles of deep learning, including dataset handling, model training, and evaluation.  \n",
        "\n",
        "---\n",
        "\n",
        "## **Key Features**\n",
        "- **Custom Dataset Handling**  \n",
        "  - Designed a `FashionMnist` class for efficient data loading and splitting into training, validation, and testing sets.  \n",
        "  - Utilized PyTorch’s `DataLoader` to implement batching, shuffling, and multiprocessing.\n",
        "\n",
        "- **CNN Architecture**  \n",
        "  - Built a CNN model with two convolutional layers, Batch Normalization, ReLU activation, and Max Pooling.  \n",
        "  - Incorporated Fully Connected layers for final classification into 10 fashion categories.\n",
        "\n",
        "- **Training and Evaluation**  \n",
        "  - Trained the model using SGD optimizer with momentum for effective learning.  \n",
        "  - Calculated and monitored training/validation accuracy and loss across multiple epochs.  \n",
        "  - Evaluated final accuracy on the test dataset.\n",
        "\n",
        "- **Visualization**  \n",
        "  - Displayed random samples and class distributions from training, validation, and test datasets.  \n",
        "  - Plotted metrics to track performance trends during training.\n",
        "\n",
        "---\n",
        "\n",
        "## **Achievements**\n",
        "- Achieved competitive classification accuracy on the Fashion-MNIST dataset.  \n",
        "- Demonstrated the complete deep learning workflow, from data preprocessing to model evaluation.  \n",
        "- Gained practical experience with PyTorch and CNN design principles.  \n",
        "\n",
        "---\n",
        "\n",
        "## **How to Use**\n",
        "1. Run the dataset preparation code to load and preprocess Fashion-MNIST images.\n",
        "2. Execute the CNN implementation and training sections to build and train the model.\n",
        "3. Evaluate the model on test data to observe the accuracy and predictions.\n",
        "\n",
        "---\n",
        "\n",
        "## **Future Work**\n",
        "- Integrate data augmentation techniques to enhance generalization.\n",
        "- Explore advanced architectures (e.g., ResNet, EfficientNet) for higher accuracy.\n",
        "- Investigate transfer learning with pre-trained models for faster and more accurate results.\n",
        "\n",
        "---\n",
        "\n",
        "This notebook serves as a comprehensive demonstration of implementing CNNs for image classification tasks and can be a valuable reference for similar projects.\n"
      ],
      "metadata": {
        "id": "4AwrQlAh5Rb4"
      }
    },
    {
      "cell_type": "markdown",
      "metadata": {
        "id": "2MrqiqXqGF1W"
      },
      "source": [
        "This assignment is designed by Marko Savic.\n",
        "\n",
        "## Outline\n",
        "#### In this assignment, you will learn:\n",
        "* Writing custom dataset in Pytorch with training, validation and testing data.\n",
        "* Building a Convolutional Neural Network (CNN) in Pytorch.\n",
        "* Training and testing your CNN in Pytorch.\n",
        "\n",
        "#### Tasks (<span style=\"color:green\">10 points</span>)\n",
        "* **Part 1.** Writing a custom dataset based on Fashion-MNIST (<span style=\"color:green\">4 points</span>)\n",
        "    * 1.1. Define a Dataset class (<span style=\"color:green\">2 points</span>)\n",
        "    * 1.2. Dataset checking (<span style=\"color:green\">1 points</span>)\n",
        "    * 1.3. Iterating through the dataset with batches (<span style=\"color:green\">1 points</span>)<br>\n",
        "* **Part 2.** Build a CNN on your own. (<span style=\"color:green\">2 points</span>) <br>\n",
        "* **Part 3.** Train and test your CNN. (<span style=\"color:green\">4 points or more</span>)\n",
        "    * 3.1. Create functions for train and evaluation (<span style=\"color:green\">2.5 points</span>) <br>\n",
        "    * 3.2. Train and test your network (<span style=\"color:green\">1.5 point</span>) <br>\n",
        "\n",
        "#### Environment\n",
        "Python 3, Numpy, matplotlib, torch, torchvision\n",
        "\n",
        "#### Dataset\n",
        "* [**Fashion-MNIST**](https://github.com/zalandoresearch/fashion-mnist)\n",
        "is a dataset of Zalando's article images—consisting of a training set of 60,000 examples and a test set of 10,000 examples. Each example is a 28x28 grayscale image, associated with a label from 10 classes.\n",
        "\n",
        "You are to split the 60,000 images in the predefined training set into a new training set with 50,000 images and a validation set with 10,000 images. Fashion-MNIST is a direct drop-in replacement for the original MNIST dataset for benchmarking machine learning algorithms. It shares the same image size and structure of training, validation and testing splits.\n",
        "\n",
        "#### Hints\n",
        "* To find the place where you have to insert your solution, hit Crtl + F and search for **TODO:** . You are not supposed to modify the codes from other parts.\n",
        "* Be careful with the shapes of the tensors flowing through the CNN model, making all the operations have compatible inputs and outputs."
      ]
    },
    {
      "cell_type": "markdown",
      "metadata": {
        "id": "BP3KyKtYGF1X"
      },
      "source": [
        "## Part 1. Writing a custom dataset based on Fashion-MNIST (<span style=\"color:green\">4 points</span>)"
      ]
    },
    {
      "cell_type": "markdown",
      "metadata": {
        "id": "ar_H5MVsGF1X"
      },
      "source": [
        "### Part 1.1. Define a Dataset class (<span style=\"color:green\">2 points</span>)\n",
        "Here we define a custom dataset by extending the [Dataset](https://pytorch.org/tutorials/beginner/basics/data_tutorial.html) class."
      ]
    },
    {
      "cell_type": "code",
      "execution_count": null,
      "metadata": {
        "id": "ckMyLhmqGF1X",
        "outputId": "badb3329-38e8-468b-b085-b5790e291723"
      },
      "outputs": [
        {
          "name": "stdout",
          "output_type": "stream",
          "text": [
            "Requirement already satisfied: onedrivedownloader in /home/marukosan/miniconda3/envs/pDL/lib/python3.10/site-packages (1.1.3)\n",
            "Requirement already satisfied: requests in /home/marukosan/miniconda3/envs/pDL/lib/python3.10/site-packages (from onedrivedownloader) (2.32.3)\n",
            "Requirement already satisfied: tqdm in /home/marukosan/.local/lib/python3.10/site-packages (from onedrivedownloader) (4.64.1)\n",
            "Requirement already satisfied: charset-normalizer<4,>=2 in /home/marukosan/miniconda3/envs/pDL/lib/python3.10/site-packages (from requests->onedrivedownloader) (3.3.2)\n",
            "Requirement already satisfied: idna<4,>=2.5 in /home/marukosan/miniconda3/envs/pDL/lib/python3.10/site-packages (from requests->onedrivedownloader) (3.7)\n",
            "Requirement already satisfied: urllib3<3,>=1.21.1 in /home/marukosan/miniconda3/envs/pDL/lib/python3.10/site-packages (from requests->onedrivedownloader) (2.2.2)\n",
            "Requirement already satisfied: certifi>=2017.4.17 in /home/marukosan/miniconda3/envs/pDL/lib/python3.10/site-packages (from requests->onedrivedownloader) (2024.7.4)\n"
          ]
        }
      ],
      "source": [
        "!pip install onedrivedownloader"
      ]
    },
    {
      "cell_type": "code",
      "execution_count": null,
      "metadata": {
        "id": "8CgpCaYCGF1Y",
        "outputId": "17aa2085-91b8-47e9-8091-a8af2e85f91b"
      },
      "outputs": [
        {
          "name": "stdout",
          "output_type": "stream",
          "text": [
            "Downloading dataset\n"
          ]
        },
        {
          "name": "stderr",
          "output_type": "stream",
          "text": [
            "100%|█████████████████████████████████████| 30.6M/30.6M [00:00<00:00, 51.8MiB/s]\n"
          ]
        },
        {
          "name": "stdout",
          "output_type": "stream",
          "text": [
            "Unzipping file...\n"
          ]
        },
        {
          "name": "stderr",
          "output_type": "stream",
          "text": [
            "Extracting files: 100%|███████████████████████████| 4/4 [00:00<00:00, 14.46it/s]\n"
          ]
        }
      ],
      "source": [
        "from onedrivedownloader import download\n",
        "import os\n",
        "link = 'https://unioulu-my.sharepoint.com/:u:/g/personal/msavic21_univ_yo_oulu_fi/EY1hdgh6AvZKvqYn3WFp5XMB1EDaL0IYST9PIPdBB8f0Eg?e=NSxK4b'\n",
        "\n",
        "if not os.path.exists('./data/fashion_mnist_npy'):\n",
        "    print('Downloading dataset')\n",
        "    download(link, filename=\"./fashion_mnist_npy_hw3\", unzip=True, unzip_path='./data/fashion_mnist_npy')"
      ]
    },
    {
      "cell_type": "code",
      "execution_count": null,
      "metadata": {
        "id": "KM2Ez1J3GF1Y",
        "outputId": "d5b0f979-5749-4f28-e9bc-1ffc06570d4b"
      },
      "outputs": [
        {
          "name": "stdout",
          "output_type": "stream",
          "text": [
            "60000\n"
          ]
        }
      ],
      "source": [
        "# import necessary packages\n",
        "import os\n",
        "import torch\n",
        "import requests, zipfile, sys\n",
        "import numpy as np\n",
        "import matplotlib.pyplot as plt\n",
        "from torch.utils.data import Dataset, DataLoader\n",
        "import torchvision\n",
        "from PIL import Image\n",
        "import torch\n",
        "import torch.nn as nn\n",
        "import torch.nn.functional as F\n",
        "import torch.optim as optim\n",
        "from torchvision import transforms\n",
        "\n",
        "\n",
        "# fashion_MNIST dataset\n",
        "data_dir='./data/fashion_mnist_npy/'\n",
        "train_data = np.load(os.path.join(data_dir, 'train_data.npy'))\n",
        "test_data = np.load(os.path.join(data_dir, 'test_data.npy'))\n",
        "train_label = np.load(os.path.join(data_dir, 'train_labels.npy'))\n",
        "test_label = np.load(os.path.join(data_dir, 'test_labels.npy'))\n",
        "\n",
        "print(len(train_label))\n",
        "# split the training data to a new training data and validation data\n",
        "class_indices = [[] for i in range(10)]\n",
        "for i, v in enumerate(train_label):\n",
        "    class_indices[v].append(i)\n",
        "\n",
        "indices_all = np.random.permutation(len(class_indices[0]))\n",
        "# take the first 1000 indices of indices_all\n",
        "indices = indices_all[:1000]\n",
        "# take the rest of the indices of indices_all\n",
        "indices_rest = indices_all[1000:]\n",
        "\n",
        "valid_indices = []\n",
        "train_indices = []\n",
        "for i in range(10):\n",
        "    # build indices for validation set\n",
        "    valid_indices.extend(np.array(class_indices[i])[indices])\n",
        "    # TODO: build indices for training set (0.25 points)\n",
        "    # your code here\n",
        "\n",
        "# write the custom dataset based on the dataset\n",
        "class FashionMnist(Dataset):\n",
        "    \"\"\"Fashion Mnist dataset\"\"\"\n",
        "\n",
        "    def __init__(self, phase='train', transform=None):\n",
        "\n",
        "        # TODO: now, split the predefined training data (1 points)\n",
        "        if 'train' == phase:\n",
        "            # your code here\n",
        "\n",
        "\n",
        "        elif 'valid' == phase:\n",
        "            # your code here\n",
        "\n",
        "\n",
        "        elif 'test' == phase:\n",
        "            # your code here\n",
        "\n",
        "\n",
        "        else:\n",
        "            assert True, 'wrong phase'\n",
        "\n",
        "\n",
        "        self.transform = transform\n",
        "\n",
        "        self.label_names = ['T-shirt/top', 'Trouser', 'Pullover', 'Dress', 'Coat', 'Sandal','Shirt','Sneaker','Bag','Ankle boot']\n",
        "\n",
        "    def __len__(self):\n",
        "        return len(self.data)\n",
        "\n",
        "    def __getitem__(self, index):\n",
        "\n",
        "        # TODO: get image and label according to the index (0.25 points)\n",
        "        # your code here\n",
        "\n",
        "        # to return a PIL Image\n",
        "        img = Image.fromarray(img, mode='L')\n",
        "\n",
        "        if self.transform is not None:\n",
        "            img = self.transform(img)\n",
        "\n",
        "        return img, label\n"
      ]
    },
    {
      "cell_type": "markdown",
      "metadata": {
        "id": "Yz4o_apoGF1Z"
      },
      "source": [
        "### Part 1.2. Dataset checking (<span style=\"color:green\">1.5 points</span>)\n",
        "First, randomly show some images in training, validation and testing data and check if the images have correct labels.<br>\n",
        "Secondly, check the number of images for each class, to make sure the dataset created correctly."
      ]
    },
    {
      "cell_type": "code",
      "execution_count": null,
      "metadata": {
        "id": "Hr8g3soyGF1Z",
        "outputId": "7d8f0d51-3268-460c-a106-55ccc4ab6855"
      },
      "outputs": [
        {
          "data": {
            "image/png": "[encoded data removed]",
            "text/plain": [
              "<Figure size 1600x800 with 5 Axes>"
            ]
          },
          "metadata": {},
          "output_type": "display_data"
        },
        {
          "name": "stdout",
          "output_type": "stream",
          "text": [
            "total number of training set: 50000\n",
            "numer of images for class T-shirt/top: 5000\n",
            "numer of images for class Trouser: 5000\n",
            "numer of images for class Pullover: 5000\n",
            "numer of images for class Dress: 5000\n",
            "numer of images for class Coat: 5000\n",
            "numer of images for class Sandal: 5000\n",
            "numer of images for class Shirt: 5000\n",
            "numer of images for class Sneaker: 5000\n",
            "numer of images for class Bag: 5000\n",
            "numer of images for class Ankle boot: 5000\n"
          ]
        }
      ],
      "source": [
        "# checking training set\n",
        "# randomly show some samples and their labels\n",
        "# TODO: create a FashionMnist dataset for training, set transform to None (0.5 points)\n",
        "# your code here\n",
        "# train_set =  #\n",
        "\n",
        "num_to_show = 5\n",
        "idx = np.random.choice(range(len(train_set)), num_to_show, replace=False) # randomly pick 5 pictures to show\n",
        "\n",
        "fig = plt.figure(figsize=(16, 8))\n",
        "\n",
        "for i in range(len(idx)):\n",
        "    image, label = train_set[idx[i]]\n",
        "    label_name = train_set.label_names[label]\n",
        "\n",
        "    ax = plt.subplot(1, num_to_show, i + 1)\n",
        "    plt.tight_layout()\n",
        "    ax.set_title('class #{}'.format(label_name))\n",
        "    ax.axis('off')\n",
        "    plt.imshow(np.asarray(image))\n",
        "\n",
        "plt.show()\n",
        "\n",
        "# print number of images for each class\n",
        "print('total number of training set: {}'.format(len(train_set)))\n",
        "for i in range(10):\n",
        "    print('numer of images for class {}: {}'.format(train_set.label_names[i], np.sum(train_set.label==i)))"
      ]
    },
    {
      "cell_type": "code",
      "execution_count": null,
      "metadata": {
        "id": "mWJ1-wWVGF1Z",
        "outputId": "beab7b21-eda4-420f-8987-6c6b177c6742"
      },
      "outputs": [
        {
          "data": {
            "image/png": "[encoded data removed]",
            "text/plain": [
              "<Figure size 1600x800 with 5 Axes>"
            ]
          },
          "metadata": {},
          "output_type": "display_data"
        },
        {
          "name": "stdout",
          "output_type": "stream",
          "text": [
            "total number of validation set: 10000\n",
            "numer of images for class T-shirt/top: 1000\n",
            "numer of images for class Trouser: 1000\n",
            "numer of images for class Pullover: 1000\n",
            "numer of images for class Dress: 1000\n",
            "numer of images for class Coat: 1000\n"
          ]
        }
      ],
      "source": [
        "# TODO:checking validation data (0.5 points)\n",
        "# your code here, like the training set, the output in this section should be like this (you can have your own visualization style)\n"
      ]
    },
    {
      "cell_type": "code",
      "execution_count": null,
      "metadata": {
        "id": "Pfnhc6K3GF1Z",
        "outputId": "ddc84b1c-e510-4ac9-b15f-389f02353a15"
      },
      "outputs": [
        {
          "data": {
            "image/png": "[encoded data removed]",
            "text/plain": [
              "<Figure size 1600x800 with 5 Axes>"
            ]
          },
          "metadata": {},
          "output_type": "display_data"
        },
        {
          "name": "stdout",
          "output_type": "stream",
          "text": [
            "total number of validation set: 10000\n",
            "numer of images for class T-shirt/top: 1000\n",
            "numer of images for class Trouser: 1000\n",
            "numer of images for class Pullover: 1000\n",
            "numer of images for class Dress: 1000\n",
            "numer of images for class Coat: 1000\n",
            "numer of images for class Sandal: 1000\n",
            "numer of images for class Shirt: 1000\n",
            "numer of images for class Sneaker: 1000\n",
            "numer of images for class Bag: 1000\n",
            "numer of images for class Ankle boot: 1000\n"
          ]
        }
      ],
      "source": [
        "# TODO: checking testing data (0.5 points)\n",
        "# your code here\n"
      ]
    },
    {
      "cell_type": "markdown",
      "metadata": {
        "id": "N2EfCF-wGF1a"
      },
      "source": [
        "### Part 1.3. Iterating through the dataset with batches (<span style=\"color:green\">1 points</span>)\n",
        "Here, we add more features with the help of [DataLoader](https://pytorch.org/tutorials/beginner/data_loading_tutorial.html#iterating-through-the-dataset):\n",
        "* Batching the data\n",
        "* Shuffling the data\n",
        "* Load the data in parallel using multiprocessing workers.\n",
        "\n",
        "`torch.utils.data.DataLoader` is an iterator which provides all these features. Parameters used below should be clear.\n",
        "\n",
        "The `DataLoader` takes as input an instance of `FashionMnist` we defined in Part 1.1. Since images in the dataset currently are all in PIL format, we have to convert them to torch.Tensor by using a transform. Actually, `transform` is often used for data augmentation, further illustrations of `transform` can be found in [https://pytorch.org/tutorials/beginner/data_loading_tutorial.html#writing-custom-datasets-dataloaders-and-transforms](https://pytorch.org/tutorials/beginner/data_loading_tutorial.html#writing-custom-datasets-dataloaders-and-transforms)."
      ]
    },
    {
      "cell_type": "code",
      "execution_count": null,
      "metadata": {
        "id": "gG1oJTlTGF1a"
      },
      "outputs": [],
      "source": [
        "# Set batch_size to 64, shuffling the training set. Number of workers here is set to 0. If your system is Linux,\n",
        "# it is possible to try more workers to do multi-process parallel reading.\n",
        "data_transform = transforms.Compose([transforms.ToTensor()])\n",
        "\n",
        "train_set = FashionMnist(phase='train', transform=data_transform)\n",
        "train_loader = DataLoader(train_set, batch_size=64, shuffle=True, num_workers=0)\n",
        "\n",
        "# TODO: create test_loader and valid_loader, both with no shuffling (1 points)\n",
        "# your code here\n"
      ]
    },
    {
      "cell_type": "markdown",
      "metadata": {
        "id": "q8cZWFUkGF1a"
      },
      "source": [
        "## Part 2. Build a CNN on your own (<span style=\"color:green\">2 points</span>)\n",
        "Structure of the CNN (**Conv**: convolutional layer, **BN**: Batch Normalization layer, **Max_pool**: max pooling layer, **FC**: fully connected layer, batch_size=64):\n",
        "<!--![model.png](attachment:model.png)-->\n",
        "<img src=https://raw.githubusercontent.com/marukosan93/DL2024_resources/refs/heads/master/CNN.png width=\"800\">"
      ]
    },
    {
      "cell_type": "markdown",
      "metadata": {
        "id": "tyd6D3aTGF1a"
      },
      "source": [
        "To define your own Network, following the rule of thumb:\n",
        "1. Define the layers in `__init__`.\n",
        "2. Do the forward calculation in `forward`."
      ]
    },
    {
      "cell_type": "code",
      "execution_count": null,
      "metadata": {
        "id": "5h0TncoNGF1a"
      },
      "outputs": [],
      "source": [
        "import torch\n",
        "import torch.nn as nn\n",
        "\n",
        "class Network(nn.Module):\n",
        "    def __init__(self, num_classes):\n",
        "        super().__init__()\n",
        "        # TODO: define layers (1 points)\n",
        "        # your code here\n",
        "\n",
        "    def forward(self, x):\n",
        "         # TODO: forwards pass (1 points)\n",
        "        # your code here\n",
        "        return x\n"
      ]
    },
    {
      "cell_type": "markdown",
      "metadata": {
        "id": "5jflxd1zGF1a"
      },
      "source": [
        "## Part 3. Train and test your CNN model (<span style=\"color:green\">4 points</span>)\n",
        "### Part 3.1. Create functions for train and evaluation (<span style=\"color:green\">2.5 points</span>)\n",
        "* Instantiate a network.\n",
        "* When training, create an optimizer to take care of network's parameters, calculate the loss and accuracy.\n",
        "* When evaluating, only the accuracy needs to be calculated"
      ]
    },
    {
      "cell_type": "code",
      "execution_count": null,
      "metadata": {
        "id": "AGhIT4Q1GF1a"
      },
      "outputs": [],
      "source": [
        "# instantiate a network\n",
        "net = Network(num_classes=10)\n",
        "\n",
        "# evaluation function\n",
        "def eval(net, data_loader):\n",
        "    use_cuda = torch.cuda.is_available()\n",
        "    if use_cuda:\n",
        "        net = net.cuda()\n",
        "    net.eval()\n",
        "    correct = 0.0\n",
        "    num_images = 0.0\n",
        "    for i_batch, (images, labels) in enumerate(data_loader):\n",
        "        if use_cuda:\n",
        "            images = images.cuda()\n",
        "            labels = labels.cuda()\n",
        "        outs = net(images)\n",
        "#         _, preds = outs.max(1)\n",
        "        preds = outs.argmax(dim=1)\n",
        "        correct += preds.eq(labels).sum()\n",
        "        num_images += len(labels)\n",
        "\n",
        "    acc = correct / num_images\n",
        "    return acc\n",
        "\n",
        "# training function\n",
        "def train(net, train_loader, valid_loader):\n",
        "    loss_function = torch.nn.CrossEntropyLoss()\n",
        "    # TODO: build your SGD optimizer with learning rate=0.01, momentum=0.9, no weight decay (0.5 points)\n",
        "    # your code here\n",
        "    optimizer =\n",
        "\n",
        "    use_cuda = torch.cuda.is_available()\n",
        "    if use_cuda:\n",
        "        net = net.cuda()\n",
        "\n",
        "    epoches = 10\n",
        "    for epoch in range(epoches):\n",
        "        net.train()\n",
        "        correct = 0.0 # used to accumulate number of correctly recognized images\n",
        "        num_images = 0.0 # used to accumulate number of images\n",
        "        for i_batch, (images, labels) in enumerate(train_loader):\n",
        "            if use_cuda:\n",
        "                images = images.cuda()\n",
        "                labels = labels.cuda()\n",
        "            # TODO: rest of the training code\n",
        "            # your code here, including the forward propagation (0.75 points),\n",
        "            # backward propagation (0.75 points) and calculating the accuracy (0.5 points)\n",
        "\n",
        "        acc = correct / num_images\n",
        "        acc_eval = eval(net, valid_loader)\n",
        "        print('epoch: %d, lr: %f, accuracy: %f, loss: %f, valid accuracy: %f' % (epoch, optimizer.param_groups[0]['lr'], acc, loss.item(), acc_eval))\n",
        "\n",
        "    return net"
      ]
    },
    {
      "cell_type": "markdown",
      "metadata": {
        "id": "S_XyFe2uGF1b"
      },
      "source": [
        "### Part 3.2. Train and test your network (<span style=\"color:green\">1.5 points</span>)"
      ]
    },
    {
      "cell_type": "code",
      "execution_count": null,
      "metadata": {
        "scrolled": true,
        "id": "ckpbrTNWGF1b",
        "outputId": "1843133c-023a-4d00-8d4e-9d47a9fea1e4"
      },
      "outputs": [
        {
          "name": "stdout",
          "output_type": "stream",
          "text": [
            "Please wait patiently, it may take some seconds...\n",
            "epoch: 0, lr: 0.010000, accuracy: 0.838040, loss: 0.191644, valid accuracy: 0.868100\n",
            "epoch: 1, lr: 0.010000, accuracy: 0.890140, loss: 0.155955, valid accuracy: 0.893700\n",
            "epoch: 2, lr: 0.010000, accuracy: 0.902840, loss: 0.090674, valid accuracy: 0.898400\n",
            "epoch: 3, lr: 0.010000, accuracy: 0.911940, loss: 0.114660, valid accuracy: 0.895700\n",
            "epoch: 4, lr: 0.010000, accuracy: 0.919760, loss: 0.301581, valid accuracy: 0.911400\n",
            "epoch: 5, lr: 0.010000, accuracy: 0.929440, loss: 0.092617, valid accuracy: 0.904400\n",
            "epoch: 6, lr: 0.010000, accuracy: 0.934820, loss: 0.098498, valid accuracy: 0.912900\n",
            "epoch: 7, lr: 0.010000, accuracy: 0.941560, loss: 0.087082, valid accuracy: 0.910600\n",
            "epoch: 8, lr: 0.010000, accuracy: 0.947200, loss: 0.033434, valid accuracy: 0.909600\n",
            "epoch: 9, lr: 0.010000, accuracy: 0.952180, loss: 0.051472, valid accuracy: 0.915700\n",
            "accuracy on testing data: 0.908300\n"
          ]
        }
      ],
      "source": [
        "print('Please wait patiently, it may take some seconds...')\n",
        "# TODO: train your network here (0.75 points)\n",
        "# your code here\n",
        "\n",
        "# TODO: test your network here on testing data (0.75 points)\n",
        "# your code here\n",
        "\n",
        "print('accuracy on testing data: %f' % acc_test) #  a reference output is provided below:"
      ]
    }
  ],
  "metadata": {
    "kernelspec": {
      "display_name": "Python 3 (ipykernel)",
      "language": "python",
      "name": "python3"
    },
    "language_info": {
      "codemirror_mode": {
        "name": "ipython",
        "version": 3
      },
      "file_extension": ".py",
      "mimetype": "text/x-python",
      "name": "python",
      "nbconvert_exporter": "python",
      "pygments_lexer": "ipython3",
      "version": "3.10.9"
    },
    "pycharm": {
      "stem_cell": {
        "cell_type": "raw",
        "metadata": {
          "collapsed": false
        },
        "source": []
      }
    },
    "colab": {
      "provenance": [],
      "include_colab_link": true
    }
  },
  "nbformat": 4,
  "nbformat_minor": 0
}