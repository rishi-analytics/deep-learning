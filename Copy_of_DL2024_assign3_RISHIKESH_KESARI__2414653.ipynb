{
  "cells": [
    {
      "cell_type": "markdown",
      "metadata": {
        "id": "view-in-github",
        "colab_type": "text"
      },
      "source": [
        "<a href=\"https://colab.research.google.com/github/rishi-analytics/deep-learning/blob/main/Copy_of_DL2024_assign3_RISHIKESH_KESARI__2414653.ipynb\" target=\"_parent\"><img src=\"https://colab.research.google.com/assets/colab-badge.svg\" alt=\"Open In Colab\"/></a>"
      ]
    },
    {
      "cell_type": "markdown",
      "metadata": {
        "id": "JDpv80vOCb4O"
      },
      "source": [
        "# 521153S Deep Learning assignment 3: Training CNN networks\n",
        "\n"
      ]
    },
    {
      "cell_type": "markdown",
      "metadata": {
        "id": "_aaE_KjwCb4R"
      },
      "source": [
        "This assignment is designed by Marko Savic.\n",
        "\n",
        "## Outline\n",
        "#### In this assignment, you will learn:\n",
        "* Writing custom dataset in Pytorch with training, validation and testing data.\n",
        "* Building a Convolutional Neural Network (CNN) in Pytorch.\n",
        "* Training and testing your CNN in Pytorch.\n",
        "\n",
        "#### Tasks (<span style=\"color:green\">10 points</span>)\n",
        "* **Part 1.** Writing a custom dataset based on Fashion-MNIST (<span style=\"color:green\">4 points</span>)\n",
        "    * 1.1. Define a Dataset class (<span style=\"color:green\">2 points</span>)\n",
        "    * 1.2. Dataset checking (<span style=\"color:green\">1 points</span>)\n",
        "    * 1.3. Iterating through the dataset with batches (<span style=\"color:green\">1 points</span>)<br>\n",
        "* **Part 2.** Build a CNN on your own. (<span style=\"color:green\">2 points</span>) <br>\n",
        "* **Part 3.** Train and test your CNN. (<span style=\"color:green\">4 points or more</span>)\n",
        "    * 3.1. Create functions for train and evaluation (<span style=\"color:green\">2.5 points</span>) <br>\n",
        "    * 3.2. Train and test your network (<span style=\"color:green\">1.5 point</span>) <br>\n",
        "\n",
        "#### Environment\n",
        "Python 3, Numpy, matplotlib, torch, torchvision\n",
        "\n",
        "#### Dataset\n",
        "* [**Fashion-MNIST**](https://github.com/zalandoresearch/fashion-mnist)\n",
        "is a dataset of Zalando's article images—consisting of a training set of 60,000 examples and a test set of 10,000 examples. Each example is a 28x28 grayscale image, associated with a label from 10 classes.\n",
        "\n",
        "You are to split the 60,000 images in the predefined training set into a new training set with 50,000 images and a validation set with 10,000 images. Fashion-MNIST is a direct drop-in replacement for the original MNIST dataset for benchmarking machine learning algorithms. It shares the same image size and structure of training, validation and testing splits.\n",
        "\n",
        "#### Hints\n",
        "* To find the place where you have to insert your solution, hit Crtl + F and search for **TODO:** . You are not supposed to modify the codes from other parts.\n",
        "* Be careful with the shapes of the tensors flowing through the CNN model, making all the operations have compatible inputs and outputs."
      ]
    },
    {
      "cell_type": "markdown",
      "metadata": {
        "id": "IFTUnFUsCb4S"
      },
      "source": [
        "## Part 1. Writing a custom dataset based on Fashion-MNIST (<span style=\"color:green\">4 points</span>)"
      ]
    },
    {
      "cell_type": "markdown",
      "metadata": {
        "id": "5uSkHA7FCb4T"
      },
      "source": [
        "### Part 1.1. Define a Dataset class (<span style=\"color:green\">2 points</span>)\n",
        "Here we define a custom dataset by extending the [Dataset](https://pytorch.org/tutorials/beginner/basics/data_tutorial.html) class."
      ]
    },
    {
      "cell_type": "code",
      "execution_count": null,
      "metadata": {
        "colab": {
          "base_uri": "https://localhost:8080/"
        },
        "id": "zBbpEysOCb4T",
        "outputId": "50f5295e-0d94-4821-a4db-c16a4777c3c4"
      },
      "outputs": [
        {
          "output_type": "stream",
          "name": "stdout",
          "text": [
            "Requirement already satisfied: onedrivedownloader in /usr/local/lib/python3.10/dist-packages (1.1.3)\n",
            "Requirement already satisfied: requests in /usr/local/lib/python3.10/dist-packages (from onedrivedownloader) (2.32.3)\n",
            "Requirement already satisfied: tqdm in /usr/local/lib/python3.10/dist-packages (from onedrivedownloader) (4.66.6)\n",
            "Requirement already satisfied: charset-normalizer<4,>=2 in /usr/local/lib/python3.10/dist-packages (from requests->onedrivedownloader) (3.4.0)\n",
            "Requirement already satisfied: idna<4,>=2.5 in /usr/local/lib/python3.10/dist-packages (from requests->onedrivedownloader) (3.10)\n",
            "Requirement already satisfied: urllib3<3,>=1.21.1 in /usr/local/lib/python3.10/dist-packages (from requests->onedrivedownloader) (2.2.3)\n",
            "Requirement already satisfied: certifi>=2017.4.17 in /usr/local/lib/python3.10/dist-packages (from requests->onedrivedownloader) (2024.8.30)\n"
          ]
        }
      ],
      "source": [
        "!pip install onedrivedownloader"
      ]
    },
    {
      "cell_type": "code",
      "execution_count": null,
      "metadata": {
        "id": "ymSrTb4tCb4V"
      },
      "outputs": [],
      "source": [
        "from onedrivedownloader import download\n",
        "import os\n",
        "link = 'https://unioulu-my.sharepoint.com/:u:/g/personal/msavic21_univ_yo_oulu_fi/EY1hdgh6AvZKvqYn3WFp5XMB1EDaL0IYST9PIPdBB8f0Eg?e=NSxK4b'\n",
        "\n",
        "if not os.path.exists('./data/fashion_mnist_npy'):\n",
        "    print('Downloading dataset')\n",
        "    download(link, filename=\"./fashion_mnist_npy_hw3\", unzip=True, unzip_path='./data/fashion_mnist_npy')"
      ]
    },
    {
      "cell_type": "code",
      "execution_count": null,
      "metadata": {
        "colab": {
          "base_uri": "https://localhost:8080/"
        },
        "id": "TXJ9Efp9Cb4V",
        "outputId": "e27f4231-0d28-4653-ff48-1a477d3c4cd5"
      },
      "outputs": [
        {
          "output_type": "stream",
          "name": "stdout",
          "text": [
            "60000\n"
          ]
        }
      ],
      "source": [
        "# import necessary packages\n",
        "import os\n",
        "import torch\n",
        "import requests, zipfile, sys\n",
        "import numpy as np\n",
        "import matplotlib.pyplot as plt\n",
        "from torch.utils.data import Dataset, DataLoader\n",
        "import torchvision\n",
        "from PIL import Image\n",
        "import torch\n",
        "import torch.nn as nn\n",
        "import torch.nn.functional as F\n",
        "import torch.optim as optim\n",
        "from torchvision import transforms\n",
        "\n",
        "\n",
        "# fashion_MNIST dataset\n",
        "data_dir='./data/fashion_mnist_npy/'\n",
        "train_data = np.load(os.path.join(data_dir, 'train_data.npy'))\n",
        "test_data = np.load(os.path.join(data_dir, 'test_data.npy'))\n",
        "train_label = np.load(os.path.join(data_dir, 'train_labels.npy'))\n",
        "test_label = np.load(os.path.join(data_dir, 'test_labels.npy'))\n",
        "\n",
        "print(len(train_label))\n",
        "# spliting the training data to a new training data and validation data\n",
        "class_indices = [[] for i in range(10)]\n",
        "for i, v in enumerate(train_label):\n",
        "    class_indices[v].append(i)\n",
        "\n",
        "indices_all = np.random.permutation(len(class_indices[0]))\n",
        "# taking the first 1000 indices of indices_all\n",
        "indices = indices_all[:1000]\n",
        "# taking the rest of the indices of indices_all\n",
        "indices_rest = indices_all[1000:]\n",
        "\n",
        "valid_indices = []\n",
        "train_indices = []\n",
        "for i in range(10):\n",
        "    # build indices for validation set\n",
        "    valid_indices.extend(np.array(class_indices[i])[indices])\n",
        "    # TODO: build indices for training set (0.25 points)\n",
        "    # your code here\n",
        "\n",
        "# write the custom dataset based on the dataset----->\n",
        "# write the custom dataset based on the dataset\n",
        "class FashionMnist(Dataset):\n",
        "    \"\"\"Fashion Mnist dataset\"\"\"\n",
        "\n",
        "    def __init__(self, phase='train', transform=None):\n",
        "\n",
        "        # Split the predefined training data into new training and validation sets\n",
        "        if phase == 'train':\n",
        "            # Take the indices for the training set (those not part of validation)\n",
        "            self.data = train_data[train_indices]\n",
        "            self.labels = train_label[train_indices]\n",
        "\n",
        "        elif phase == 'valid':\n",
        "            # Take the indices for the validation set\n",
        "            self.data = train_data[valid_indices]\n",
        "            self.labels = train_label[valid_indices]\n",
        "\n",
        "        elif phase == 'test':\n",
        "            # For test data\n",
        "            self.data = test_data\n",
        "            self.labels = test_label\n",
        "\n",
        "        else:\n",
        "            raise ValueError(\"Invalid phase. Choose from 'train', 'valid', or 'test'\")\n",
        "\n",
        "        self.transform = transform\n",
        "        self.label_names = ['T-shirt/top', 'Trouser', 'Pullover', 'Dress', 'Coat', 'Sandal', 'Shirt', 'Sneaker', 'Bag', 'Ankle boot']\n",
        "\n",
        "    def __len__(self):\n",
        "        return len(self.data)\n",
        "\n",
        "    def __getitem__(self, index):\n",
        "        # Get image and label according to the index\n",
        "        img = self.data[index]\n",
        "        label = self.labels[index]\n",
        "\n",
        "        # Convert to a PIL Image\n",
        "        img = Image.fromarray(img, mode='L')\n",
        "\n",
        "        # Apply transformation if any\n",
        "        if self.transform is not None:\n",
        "            img = self.transform(img)\n",
        "\n",
        "        return img, label\n"
      ]
    },
    {
      "cell_type": "code",
      "source": [
        "# Spliing the training data into new training data and validation data\n",
        "class_indices = [[] for i in range(10)]\n",
        "for i, v in enumerate(train_label):\n",
        "    class_indices[v].append(i)\n",
        "\n",
        "indices_all = np.random.permutation(len(class_indices[0]))\n",
        "# Taking the first 1000 indices for validation\n",
        "indices = indices_all[:1000]\n",
        "# Taking the remaining indices for training\n",
        "indices_rest = indices_all[1000:]\n",
        "\n",
        "valid_indices = []\n",
        "train_indices = []\n",
        "\n",
        "for i in range(10):\n",
        "    # Building indices for validation set\n",
        "    valid_indices.extend(np.array(class_indices[i])[indices])\n",
        "    # Building indices for training set\n",
        "    train_indices.extend(np.array(class_indices[i])[indices_rest])\n",
        "\n",
        "# setting up indices are set up correctly\n",
        "print(f\"Number of training samples: {len(train_indices)}\")\n",
        "print(f\"Number of validation samples: {len(valid_indices)}\")\n",
        "\n",
        "# Custom dataset class for Fashion MNIST\n",
        "class FashionMnist(Dataset):\n",
        "    \"\"\"Fashion Mnist dataset\"\"\"\n",
        "\n",
        "    def __init__(self, phase='train', transform=None):\n",
        "\n",
        "        if phase == 'train':\n",
        "            # Taking the indices for the training set\n",
        "            self.data = train_data[train_indices]\n",
        "            self.labels = train_label[train_indices]\n",
        "\n",
        "        elif phase == 'valid':\n",
        "            # Taking the indices for the validation set\n",
        "            self.data = train_data[valid_indices]\n",
        "            self.labels = train_label[valid_indices]\n",
        "\n",
        "        elif phase == 'test':\n",
        "            # For test data\n",
        "            self.data = test_data\n",
        "            self.labels = test_label\n",
        "\n",
        "        else:\n",
        "            raise ValueError(\"Invalid phase. Choose from 'train', 'valid', or 'test'\")\n",
        "\n",
        "        self.transform = transform\n",
        "        self.label_names = ['T-shirt/top', 'Trouser', 'Pullover', 'Dress', 'Coat', 'Sandal', 'Shirt', 'Sneaker', 'Bag', 'Ankle boot']\n",
        "\n",
        "    def __len__(self):\n",
        "        return len(self.data)\n",
        "\n",
        "    def __getitem__(self, index):\n",
        "        # Geting image and labeling according to the index\n",
        "        img = self.data[index]\n",
        "        label = self.labels[index]\n",
        "\n",
        "        # Converting to a PIL Image\n",
        "        img = Image.fromarray(img, mode='L')\n",
        "\n",
        "        # Applying transformation if any\n",
        "        if self.transform is not None:\n",
        "            img = self.transform(img)\n",
        "\n",
        "        return img, label"
      ],
      "metadata": {
        "colab": {
          "base_uri": "https://localhost:8080/"
        },
        "id": "03jpdSyEMwkS",
        "outputId": "cf86dadf-6839-42a5-e9fd-cad78546c938"
      },
      "execution_count": null,
      "outputs": [
        {
          "output_type": "stream",
          "name": "stdout",
          "text": [
            "Number of training samples: 50000\n",
            "Number of validation samples: 10000\n"
          ]
        }
      ]
    },
    {
      "cell_type": "code",
      "source": [
        "# checking if the dataset is properly loaded:\n",
        "train_set = FashionMnist(phase='train')\n",
        "valid_set = FashionMnist(phase='valid')\n",
        "test_set = FashionMnist(phase='test')\n",
        "\n",
        "print(f\"Number of training samples: {len(train_set)}\")\n",
        "print(f\"Number of validation samples: {len(valid_set)}\")\n",
        "print(f\"Number of test samples: {len(test_set)}\")"
      ],
      "metadata": {
        "colab": {
          "base_uri": "https://localhost:8080/"
        },
        "id": "WjxlcG0_M1ZC",
        "outputId": "01f4059f-edec-41d3-894b-8fb5ab4f07c9"
      },
      "execution_count": null,
      "outputs": [
        {
          "output_type": "stream",
          "name": "stdout",
          "text": [
            "Number of training samples: 50000\n",
            "Number of validation samples: 10000\n",
            "Number of test samples: 10000\n"
          ]
        }
      ]
    },
    {
      "cell_type": "markdown",
      "metadata": {
        "id": "BHSYI88lCb4W"
      },
      "source": [
        "### Part 1.2. Dataset checking (<span style=\"color:green\">1.5 points</span>)\n",
        "First, randomly show some images in training, validation and testing data and check if the images have correct labels.<br>\n",
        "Secondly, check the number of images for each class, to make sure the dataset created correctly."
      ]
    },
    {
      "cell_type": "code",
      "source": [
        "# Checking the lengths of the dataset objects\n",
        "print(f\"Number of samples in train_set: {len(train_set)}\")\n",
        "print(f\"Number of samples in valid_set: {len(valid_set)}\")\n",
        "print(f\"Number of samples in test_set: {len(test_set)}\")\n",
        "\n",
        "# Checking the shape of data arrays for quick confirmation\n",
        "print(f\"Shape of train_data: {train_data.shape}\")\n",
        "print(f\"Shape of train_labels: {train_label.shape}\")\n",
        "print(f\"Shape of test_data: {test_data.shape}\")\n",
        "print(f\"Shape of test_labels: {test_label.shape}\")\n"
      ],
      "metadata": {
        "colab": {
          "base_uri": "https://localhost:8080/"
        },
        "id": "SSHetn2oKX6H",
        "outputId": "7e50f77d-29e1-4245-93ee-0655d9e36b01"
      },
      "execution_count": null,
      "outputs": [
        {
          "output_type": "stream",
          "name": "stdout",
          "text": [
            "Number of samples in train_set: 0\n",
            "Number of samples in valid_set: 10000\n",
            "Number of samples in test_set: 10000\n",
            "Shape of train_data: (60000, 28, 28)\n",
            "Shape of train_labels: (60000,)\n",
            "Shape of test_data: (10000, 28, 28)\n",
            "Shape of test_labels: (10000,)\n"
          ]
        }
      ]
    },
    {
      "cell_type": "code",
      "source": [
        "# Checking if the dataset is loaded correctly\n",
        "train_set = FashionMnist(phase='train', transform=None)\n",
        "valid_set = FashionMnist(phase='valid', transform=None)\n",
        "test_set = FashionMnist(phase='test', transform=None)\n",
        "\n",
        "# Checking the length of train_set\n",
        "print(f\"Number of samples in train_set: {len(train_set)}\")\n",
        "\n",
        "if len(train_set) > 0:\n",
        "    # Display random samples from the training set\n",
        "    num_to_show = 5\n",
        "    idx = np.random.choice(range(len(train_set)), num_to_show, replace=False)  # Randomly pick 5 images\n",
        "\n",
        "    fig = plt.figure(figsize=(16, 8))\n",
        "\n",
        "    for i in range(len(idx)):\n",
        "        image, label = train_set[idx[i]]  # Get the image and its label\n",
        "        label_name = train_set.label_names[label]  # Get the label name from label index\n",
        "\n",
        "        ax = plt.subplot(1, num_to_show, i + 1)\n",
        "        plt.tight_layout()\n",
        "        ax.set_title('class #{}'.format(label_name))  # Display the label name\n",
        "        ax.axis('off')\n",
        "        plt.imshow(np.asarray(image))  # Show the image\n",
        "\n",
        "    plt.show()\n",
        "\n",
        "    # Print the total number of images in the training set\n",
        "    print('Total number of training set images: {}'.format(len(train_set)))\n",
        "\n",
        "    # Print the number of images for each class in the training set\n",
        "    for i in range(10):\n",
        "        class_count = np.sum(train_set.labels == i)  # Count images for each class\n",
        "        print('Number of images for class {}: {}'.format(train_set.label_names[i], class_count))\n",
        "else:\n",
        "    print(\"Error: train_set is empty. Please check your data loading process.\")"
      ],
      "metadata": {
        "colab": {
          "base_uri": "https://localhost:8080/"
        },
        "id": "WY9VEQYcHIzK",
        "outputId": "ba44a479-7cea-48ae-e63e-b347722cdb60"
      },
      "execution_count": null,
      "outputs": [
        {
          "output_type": "stream",
          "name": "stdout",
          "text": [
            "Number of samples in train_set: 0\n",
            "Error: train_set is empty. Please check your data loading process.\n"
          ]
        }
      ]
    },
    {
      "cell_type": "code",
      "execution_count": null,
      "metadata": {
        "id": "Hr8g3soyGF1Z",
        "outputId": "f00f2b43-44cb-42d5-958f-da6bb04e40ee",
        "colab": {
          "base_uri": "https://localhost:8080/",
          "height": 477
        }
      },
      "outputs": [
        {
          "output_type": "display_data",
          "data": {
            "text/plain": [
              "<Figure size 1600x800 with 5 Axes>"
            ],
            "image/png": "[encoded data removed]"
          },
          "metadata": {}
        },
        {
          "output_type": "stream",
          "name": "stdout",
          "text": [
            "Total number of training samples: 50000\n",
            "Number of images for class T-shirt/top: 5000\n",
            "Number of images for class Trouser: 5000\n",
            "Number of images for class Pullover: 5000\n",
            "Number of images for class Dress: 5000\n",
            "Number of images for class Coat: 5000\n",
            "Number of images for class Sandal: 5000\n",
            "Number of images for class Shirt: 5000\n",
            "Number of images for class Sneaker: 5000\n",
            "Number of images for class Bag: 5000\n",
            "Number of images for class Ankle boot: 5000\n"
          ]
        }
      ],
      "source": [
        "# checking training set\n",
        "# randomly show some samples and their labels\n",
        "# TODO: create a FashionMnist dataset for training, set transform to None (0.5 points)\n",
        "# your code here\n",
        "# train_set =  #\n",
        "\n",
        "# Creating the FashionMnist dataset for training with no transformation\n",
        "train_set = FashionMnist(phase='train', transform=None)\n",
        "\n",
        "# Display 5 random samples from the training set\n",
        "num_to_show = 5\n",
        "idx = np.random.choice(range(len(train_set)), num_to_show, replace=False)  # Randomly pick 5 samples\n",
        "\n",
        "fig = plt.figure(figsize=(16, 8))\n",
        "\n",
        "for i in range(len(idx)):\n",
        "    image, label = train_set[idx[i]]  # Get image and label\n",
        "    label_name = train_set.label_names[label]  # Get the label name\n",
        "\n",
        "    ax = plt.subplot(1, num_to_show, i + 1)\n",
        "    plt.tight_layout()\n",
        "    ax.set_title(f'class: {label_name}')  # Show the class label\n",
        "    ax.axis('off')\n",
        "    plt.imshow(np.asarray(image), cmap='gray')  # Display the image\n",
        "\n",
        "plt.show()\n",
        "\n",
        "# Print the total number of images in the training set and the count per class\n",
        "print(f'Total number of training samples: {len(train_set)}')\n",
        "for i in range(10):\n",
        "    # Count the number of images for each class\n",
        "    class_count = np.sum(np.array(train_set.labels) == i)\n",
        "    print(f'Number of images for class {train_set.label_names[i]}: {class_count}')"
      ]
    },
    {
      "cell_type": "code",
      "execution_count": null,
      "metadata": {
        "colab": {
          "base_uri": "https://localhost:8080/",
          "height": 477
        },
        "id": "_Y7SMsgCCb4X",
        "outputId": "1b280cc9-f3ea-449c-932d-9b67b87e5a75"
      },
      "outputs": [
        {
          "output_type": "display_data",
          "data": {
            "text/plain": [
              "<Figure size 1600x800 with 5 Axes>"
            ],
            "image/png": "[encoded data removed]"
          },
          "metadata": {}
        },
        {
          "output_type": "stream",
          "name": "stdout",
          "text": [
            "Total number of validation set images: 10000\n",
            "Number of images for class T-shirt/top: 1000\n",
            "Number of images for class Trouser: 1000\n",
            "Number of images for class Pullover: 1000\n",
            "Number of images for class Dress: 1000\n",
            "Number of images for class Coat: 1000\n",
            "Number of images for class Sandal: 1000\n",
            "Number of images for class Shirt: 1000\n",
            "Number of images for class Sneaker: 1000\n",
            "Number of images for class Bag: 1000\n",
            "Number of images for class Ankle boot: 1000\n"
          ]
        }
      ],
      "source": [
        "# TODO:checking validation data (0.5 points)\n",
        "# your code here, like the training set, the output in this section should be like this (you can have your own visualization style)\n",
        "# ------------\n",
        "\n",
        "# Checking validation set\n",
        "# Randomly show some samples and their labels\n",
        "# TODO: create a FashionMnist dataset for validation, set transform to None\n",
        "\n",
        "valid_set = FashionMnist(phase='valid', transform=None)  # Create validation dataset\n",
        "\n",
        "# Randomly pick 5 images to show\n",
        "num_to_show = 5\n",
        "idx = np.random.choice(range(len(valid_set)), num_to_show, replace=False)\n",
        "\n",
        "fig = plt.figure(figsize=(16, 8))\n",
        "\n",
        "# Displaying the selected samples\n",
        "for i in range(len(idx)):\n",
        "    image, label = valid_set[idx[i]]  # Get image and label\n",
        "    label_name = valid_set.label_names[label]  # Get the label name\n",
        "\n",
        "    ax = plt.subplot(1, num_to_show, i + 1)\n",
        "    plt.tight_layout()\n",
        "    ax.set_title('class #{}'.format(label_name))  # Display the label name\n",
        "    ax.axis('off')\n",
        "    plt.imshow(np.asarray(image))  # Show the image\n",
        "\n",
        "plt.show()\n",
        "\n",
        "# Print the total number of images in the validation set\n",
        "print('Total number of validation set images: {}'.format(len(valid_set)))\n",
        "\n",
        "# Print the number of images for each class in the validation set\n",
        "for i in range(10):\n",
        "    class_count = np.sum(valid_set.labels == i)  # Count images for each class\n",
        "    print('Number of images for class {}: {}'.format(valid_set.label_names[i], class_count))"
      ]
    },
    {
      "cell_type": "code",
      "execution_count": null,
      "metadata": {
        "colab": {
          "base_uri": "https://localhost:8080/",
          "height": 477
        },
        "id": "CJLeSPLICb4X",
        "outputId": "86e9e28b-1672-4ab2-8aac-2955f71b0b63"
      },
      "outputs": [
        {
          "output_type": "display_data",
          "data": {
            "text/plain": [
              "<Figure size 1600x800 with 5 Axes>"
            ],
            "image/png": "[encoded data removed]"
          },
          "metadata": {}
        },
        {
          "output_type": "stream",
          "name": "stdout",
          "text": [
            "Total number of testing set images: 10000\n",
            "Number of images for class T-shirt/top: 1000\n",
            "Number of images for class Trouser: 1000\n",
            "Number of images for class Pullover: 1000\n",
            "Number of images for class Dress: 1000\n",
            "Number of images for class Coat: 1000\n",
            "Number of images for class Sandal: 1000\n",
            "Number of images for class Shirt: 1000\n",
            "Number of images for class Sneaker: 1000\n",
            "Number of images for class Bag: 1000\n",
            "Number of images for class Ankle boot: 1000\n"
          ]
        }
      ],
      "source": [
        "# TODO: checking testing data (0.5 points)\n",
        "# your code here\n",
        "#---- My Code:\n",
        "# Checking testing set\n",
        "# Randomly show some samples and their labels\n",
        "# TODO: create a FashionMnist dataset for testing, set transform to None\n",
        "\n",
        "test_set = FashionMnist(phase='test', transform=None)  # Create test dataset\n",
        "\n",
        "# Randomly pick 5 images to show\n",
        "num_to_show = 5\n",
        "idx = np.random.choice(range(len(test_set)), num_to_show, replace=False)\n",
        "\n",
        "fig = plt.figure(figsize=(16, 8))\n",
        "\n",
        "# Display the selected samples\n",
        "for i in range(len(idx)):\n",
        "    image, label = test_set[idx[i]]  # Get image and label\n",
        "    label_name = test_set.label_names[label]  # Get the label name\n",
        "\n",
        "    ax = plt.subplot(1, num_to_show, i + 1)\n",
        "    plt.tight_layout()\n",
        "    ax.set_title('class #{}'.format(label_name))  # Display the label name\n",
        "    ax.axis('off')\n",
        "    plt.imshow(np.asarray(image))  # Show the image\n",
        "\n",
        "plt.show()\n",
        "\n",
        "# Print the total number of images in the testing set\n",
        "print('Total number of testing set images: {}'.format(len(test_set)))\n",
        "\n",
        "# Print the number of images for each class in the testing set\n",
        "for i in range(10):\n",
        "    class_count = np.sum(test_set.labels == i)  # Count images for each class\n",
        "    print('Number of images for class {}: {}'.format(test_set.label_names[i], class_count))"
      ]
    },
    {
      "cell_type": "markdown",
      "metadata": {
        "id": "1uxfMmrtCb4X"
      },
      "source": [
        "### Part 1.3. Iterating through the dataset with batches (<span style=\"color:green\">1 points</span>)\n",
        "Here, we add more features with the help of [DataLoader](https://pytorch.org/tutorials/beginner/data_loading_tutorial.html#iterating-through-the-dataset):\n",
        "* Batching the data\n",
        "* Shuffling the data\n",
        "* Load the data in parallel using multiprocessing workers.\n",
        "\n",
        "`torch.utils.data.DataLoader` is an iterator which provides all these features. Parameters used below should be clear.\n",
        "\n",
        "The `DataLoader` takes as input an instance of `FashionMnist` we defined in Part 1.1. Since images in the dataset currently are all in PIL format, we have to convert them to torch.Tensor by using a transform. Actually, `transform` is often used for data augmentation, further illustrations of `transform` can be found in [https://pytorch.org/tutorials/beginner/data_loading_tutorial.html#writing-custom-datasets-dataloaders-and-transforms](https://pytorch.org/tutorials/beginner/data_loading_tutorial.html#writing-custom-datasets-dataloaders-and-transforms)."
      ]
    },
    {
      "cell_type": "code",
      "execution_count": null,
      "metadata": {
        "colab": {
          "base_uri": "https://localhost:8080/"
        },
        "id": "hUAY5XcICb4X",
        "outputId": "8985f149-72f4-4859-a723-6a19560a445f"
      },
      "outputs": [
        {
          "output_type": "stream",
          "name": "stdout",
          "text": [
            "Number of batches in train_loader: 782\n",
            "Number of batches in valid_loader: 157\n",
            "Number of batches in test_loader: 157\n",
            "Batch size: torch.Size([64, 1, 28, 28])\n"
          ]
        }
      ],
      "source": [
        "# Set batch_size to 64, shuffling the training set. Number of workers here is set to 0. If your system is Linux,\n",
        "# it is possible to try more workers to do multi-process parallel reading.\n",
        "data_transform = transforms.Compose([transforms.ToTensor()])\n",
        "\n",
        "train_set = FashionMnist(phase='train', transform=data_transform)\n",
        "train_loader = DataLoader(train_set, batch_size=64, shuffle=True, num_workers=0)\n",
        "\n",
        "# TODO: create test_loader and valid_loader, both with no shuffling (1 points)\n",
        "# your code here\n",
        "# -----\n",
        "# My Code:\n",
        "from torch.utils.data import DataLoader\n",
        "from torchvision import transforms\n",
        "\n",
        "# Apply transformation to convert images to tensor\n",
        "data_transform = transforms.Compose([transforms.ToTensor()])\n",
        "\n",
        "# Creating the training dataset and loader\n",
        "train_set = FashionMnist(phase='train', transform=data_transform)  # Train dataset\n",
        "train_loader = DataLoader(train_set, batch_size=64, shuffle=True, num_workers=0)  # Train loader\n",
        "\n",
        "# Creating the validation dataset and loader (no shuffling)\n",
        "valid_set = FashionMnist(phase='valid', transform=data_transform)  # Validation dataset\n",
        "valid_loader = DataLoader(valid_set, batch_size=64, shuffle=False, num_workers=0)  # Validation loader\n",
        "\n",
        "# Creating the test dataset and loader (no shuffling)\n",
        "test_set = FashionMnist(phase='test', transform=data_transform)  # Test dataset\n",
        "test_loader = DataLoader(test_set, batch_size=64, shuffle=False, num_workers=0)  # Test loader\n",
        "\n",
        "# Checking the number of batches in the training set\n",
        "print(f'Number of batches in train_loader: {len(train_loader)}')\n",
        "print(f'Number of batches in valid_loader: {len(valid_loader)}')\n",
        "print(f'Number of batches in test_loader: {len(test_loader)}')\n",
        "\n",
        "# Example: Iterate through the train_loader to fetch a batch and print its size\n",
        "for images, labels in train_loader:\n",
        "    print(f'Batch size: {images.size()}')  # Size should be (64, 1, 28, 28)\n",
        "    break  # Only print the first batch size"
      ]
    },
    {
      "cell_type": "markdown",
      "metadata": {
        "id": "XsAXlpKkCb4Y"
      },
      "source": [
        "## Part 2. Build a CNN on your own (<span style=\"color:green\">2 points</span>)\n",
        "Structure of the CNN (**Conv**: convolutional layer, **BN**: Batch Normalization layer, **Max_pool**: max pooling layer, **FC**: fully connected layer, batch_size=64):\n",
        "<!--![model.png](attachment:model.png)-->\n",
        "<img src=https://raw.githubusercontent.com/marukosan93/DL2024_resources/refs/heads/master/CNN.png width=\"800\">"
      ]
    },
    {
      "cell_type": "markdown",
      "metadata": {
        "id": "V5k8nC6bCb4Y"
      },
      "source": [
        "To define your own Network, following the rule of thumb:\n",
        "1. Define the layers in `__init__`.\n",
        "2. Do the forward calculation in `forward`."
      ]
    },
    {
      "cell_type": "code",
      "execution_count": null,
      "metadata": {
        "id": "RWCyxK1sCb4Y"
      },
      "outputs": [],
      "source": [
        "import torch\n",
        "import torch.nn as nn\n",
        "\n",
        "class Network(nn.Module):\n",
        "    def __init__(self, num_classes):\n",
        "        super().__init__()\n",
        "        # TODO: define layers (1 points)\n",
        "        # your code here\n",
        "\n",
        "        # Define the layers\n",
        "        self.conv1 = nn.Conv2d(in_channels=1, out_channels=32, kernel_size=3, stride=1, padding=1)\n",
        "        self.bn1 = nn.BatchNorm2d(32)\n",
        "        self.conv2 = nn.Conv2d(in_channels=32, out_channels=64, kernel_size=3, stride=1, padding=1)\n",
        "        self.bn2 = nn.BatchNorm2d(64)\n",
        "\n",
        "        # Max pooling layers\n",
        "        self.pool = nn.MaxPool2d(kernel_size=2, stride=2, padding=0)\n",
        "\n",
        "        # Fully connected layer (after flattening the feature map)\n",
        "        self.fc1 = nn.Linear(64 * 7 * 7, 128)  # 64 channels, 7x7 feature map size after two pooling layers\n",
        "        self.fc2 = nn.Linear(128, num_classes)\n",
        "\n",
        "    def forward(self, x):\n",
        "         # TODO: forwards pass (1 points)\n",
        "        # your code here\n",
        "        # Forward pass\n",
        "        x = self.conv1(x)\n",
        "        x = self.bn1(x)\n",
        "        x = torch.relu(x)\n",
        "        x = self.pool(x)\n",
        "\n",
        "        x = self.conv2(x)\n",
        "        x = self.bn2(x)\n",
        "        x = torch.relu(x)\n",
        "        x = self.pool(x)\n",
        "\n",
        "        # Flatten the feature map for fully connected layer\n",
        "        x = x.view(-1, 64 * 7 * 7)  # Flatten the tensor\n",
        "\n",
        "        # Fully connected layers\n",
        "        x = self.fc1(x)\n",
        "        x = torch.relu(x)\n",
        "        x = self.fc2(x)\n",
        "\n",
        "        return x"
      ]
    },
    {
      "cell_type": "markdown",
      "metadata": {
        "id": "ugW9J5pQCb4Y"
      },
      "source": [
        "## Part 3. Train and test your CNN model (<span style=\"color:green\">4 points</span>)\n",
        "### Part 3.1. Create functions for train and evaluation (<span style=\"color:green\">2.5 points</span>)\n",
        "* Instantiate a network.\n",
        "* When training, create an optimizer to take care of network's parameters, calculate the loss and accuracy.\n",
        "* When evaluating, only the accuracy needs to be calculated"
      ]
    },
    {
      "cell_type": "code",
      "execution_count": null,
      "metadata": {
        "id": "Ja9DwjRaCb4Y"
      },
      "outputs": [],
      "source": [
        "# instantiate a network\n",
        "net = Network(num_classes=10)\n",
        "\n",
        "# evaluation function\n",
        "def eval(net, data_loader):\n",
        "    use_cuda = torch.cuda.is_available()\n",
        "    if use_cuda:\n",
        "        net = net.cuda()\n",
        "    net.eval()\n",
        "    correct = 0.0\n",
        "    num_images = 0.0\n",
        "    for i_batch, (images, labels) in enumerate(data_loader):\n",
        "        if use_cuda:\n",
        "            images = images.cuda()\n",
        "            labels = labels.cuda()\n",
        "        outs = net(images)\n",
        "#         _, preds = outs.max(1)\n",
        "        preds = outs.argmax(dim=1)\n",
        "        correct += preds.eq(labels).sum()\n",
        "        num_images += len(labels)\n",
        "\n",
        "    acc = correct / num_images\n",
        "    return acc\n",
        "\n",
        "# training function\n",
        "def train(net, train_loader, valid_loader):\n",
        "    loss_function = torch.nn.CrossEntropyLoss()\n",
        "    # TODO: build your SGD optimizer with learning rate=0.01, momentum=0.9, no weight decay (0.5 points)\n",
        "    # your code here\n",
        "    optimizer =\n",
        "\n",
        "    use_cuda = torch.cuda.is_available()\n",
        "    if use_cuda:\n",
        "        net = net.cuda()\n",
        "\n",
        "    epoches = 10\n",
        "    for epoch in range(epoches):\n",
        "        net.train()\n",
        "        correct = 0.0 # used to accumulate number of correctly recognized images\n",
        "        num_images = 0.0 # used to accumulate number of images\n",
        "        for i_batch, (images, labels) in enumerate(train_loader):\n",
        "            if use_cuda:\n",
        "                images = images.cuda()\n",
        "                labels = labels.cuda()\n",
        "            # TODO: rest of the training code\n",
        "            # your code here, including the forward propagation (0.75 points),\n",
        "            # backward propagation (0.75 points) and calculating the accuracy (0.5 points)\n",
        "\n",
        "        acc = correct / num_images\n",
        "        acc_eval = eval(net, valid_loader)\n",
        "        print('epoch: %d, lr: %f, accuracy: %f, loss: %f, valid accuracy: %f' % (epoch, optimizer.param_groups[0]['lr'], acc, loss.item(), acc_eval))\n",
        "\n",
        "    return net"
      ]
    },
    {
      "cell_type": "code",
      "source": [
        "import torch\n",
        "import torch.optim as optim\n",
        "\n",
        "# instantiate a network\n",
        "net = Network(num_classes=10)\n",
        "\n",
        "# evaluation function\n",
        "def eval(net, data_loader):\n",
        "    use_cuda = torch.cuda.is_available()\n",
        "    if use_cuda:\n",
        "        net = net.cuda()\n",
        "    net.eval()\n",
        "    correct = 0.0\n",
        "    num_images = 0.0\n",
        "    with torch.no_grad():  # No gradient calculation during evaluation\n",
        "        for i_batch, (images, labels) in enumerate(data_loader):\n",
        "            if use_cuda:\n",
        "                images = images.cuda()\n",
        "                labels = labels.cuda()\n",
        "            outs = net(images)\n",
        "            preds = outs.argmax(dim=1)  # Get the index of the max log-probability\n",
        "            correct += preds.eq(labels).sum().item()\n",
        "            num_images += len(labels)\n",
        "\n",
        "    acc = correct / num_images  # Calculate accuracy\n",
        "    return acc\n",
        "\n",
        "# training function\n",
        "def train(net, train_loader, valid_loader):\n",
        "    loss_function = torch.nn.CrossEntropyLoss()\n",
        "    # TODO: build your SGD optimizer with learning rate=0.01, momentum=0.9, no weight decay (0.5 points)\n",
        "    # your code here\n",
        "    #My Code:\n",
        "\n",
        "    # Building SGD optimizer with learning rate=0.01, momentum=0.9, no weight decay\n",
        "    optimizer = optim.SGD(net.parameters(), lr=0.01, momentum=0.9)\n",
        "\n",
        "    use_cuda = torch.cuda.is_available()\n",
        "    if use_cuda:\n",
        "        net = net.cuda()\n",
        "\n",
        "    epoches = 10\n",
        "    for epoch in range(epoches):\n",
        "        net.train()  # Set model to training mode\n",
        "        correct = 0.0  # Used to accumulate number of correctly recognized images\n",
        "        num_images = 0.0  # Used to accumulate number of images\n",
        "        running_loss = 0.0  # Used to accumulate loss\n",
        "\n",
        "        for i_batch, (images, labels) in enumerate(train_loader):\n",
        "            if use_cuda:\n",
        "                images = images.cuda()\n",
        "                labels = labels.cuda()\n",
        "\n",
        "# TODO: rest of the training code\n",
        "            # your code here, including the forward propagation (0.75 points),\n",
        "            # backward propagation (0.75 points) and calculating the accuracy (0.5 points)\n",
        "\n",
        "#My Code:\n",
        "            # Forward propagation\n",
        "            optimizer.zero_grad()  # Zero the gradients before each backward pass\n",
        "            outs = net(images)  # Get the model's output\n",
        "\n",
        "            # Calculate the loss\n",
        "            loss = loss_function(outs, labels)\n",
        "\n",
        "            # Backward propagation\n",
        "            loss.backward()  # Compute the gradients\n",
        "            optimizer.step()  # Update the model's weights\n",
        "\n",
        "            # Track accuracy\n",
        "            preds = outs.argmax(dim=1)  # Get predicted class labels\n",
        "            correct += preds.eq(labels).sum().item()  # Count correct predictions\n",
        "            num_images += len(labels)  # Count total images\n",
        "\n",
        "            running_loss += loss.item()  # Accumulate loss\n",
        "\n",
        "        acc = correct / num_images  # Calculate training accuracy\n",
        "        acc_eval = eval(net, valid_loader)  # Get validation accuracy\n",
        "        avg_loss = running_loss / len(train_loader)  # Average loss per batch\n",
        "\n",
        "        # Print the progress\n",
        "        print(f\"Epoch: {epoch + 1}, \"\n",
        "              f\"Learning Rate: {optimizer.param_groups[0]['lr']:.6f}, \"\n",
        "              f\"Training Accuracy: {acc:.4f}, \"\n",
        "              f\"Loss: {avg_loss:.4f}, \"\n",
        "              f\"Validation Accuracy: {acc_eval:.4f}\")\n",
        "\n",
        "    return net"
      ],
      "metadata": {
        "id": "MHEwtOAJToCJ"
      },
      "execution_count": null,
      "outputs": []
    },
    {
      "cell_type": "markdown",
      "metadata": {
        "id": "Sh6_pV9WCb4Y"
      },
      "source": [
        "### Part 3.2. Train and test your network (<span style=\"color:green\">1.5 points</span>)"
      ]
    },
    {
      "cell_type": "code",
      "source": [
        "print('Please wait patiently, it may take some seconds...')\n",
        "\n",
        "# TODO: Train your network here (0.75 points)\n",
        "# Using the previously defined `train` function to train the network\n",
        "net_trained = train(net, train_loader, valid_loader)  # Train the network using the training and validation loaders\n",
        "\n",
        "# TODO: Test your network here on testing data (0.75 points)\n",
        "# Using the `eval` function to evaluate the trained model on the test set\n",
        "acc_test = eval(net_trained, test_loader)  # Evaluate the model on the test set\n",
        "\n",
        "# Print the accuracy on testing data\n",
        "print('accuracy on testing data: %f' % acc_test)"
      ],
      "metadata": {
        "colab": {
          "base_uri": "https://localhost:8080/"
        },
        "id": "YmVWjVClVAfh",
        "outputId": "f11be70a-4eb2-4acf-cdac-17b65deb6a90"
      },
      "execution_count": null,
      "outputs": [
        {
          "output_type": "stream",
          "name": "stdout",
          "text": [
            "Please wait patiently, it may take some seconds...\n",
            "Epoch: 1, Learning Rate: 0.010000, Training Accuracy: 0.8459, Loss: 0.4235, Validation Accuracy: 0.8804\n",
            "Epoch: 2, Learning Rate: 0.010000, Training Accuracy: 0.8974, Loss: 0.2833, Validation Accuracy: 0.8920\n",
            "Epoch: 3, Learning Rate: 0.010000, Training Accuracy: 0.9114, Loss: 0.2380, Validation Accuracy: 0.8957\n",
            "Epoch: 4, Learning Rate: 0.010000, Training Accuracy: 0.9229, Loss: 0.2072, Validation Accuracy: 0.9075\n",
            "Epoch: 5, Learning Rate: 0.010000, Training Accuracy: 0.9314, Loss: 0.1841, Validation Accuracy: 0.9092\n",
            "Epoch: 6, Learning Rate: 0.010000, Training Accuracy: 0.9374, Loss: 0.1672, Validation Accuracy: 0.9184\n",
            "Epoch: 7, Learning Rate: 0.010000, Training Accuracy: 0.9454, Loss: 0.1463, Validation Accuracy: 0.9125\n",
            "Epoch: 8, Learning Rate: 0.010000, Training Accuracy: 0.9513, Loss: 0.1307, Validation Accuracy: 0.9150\n",
            "Epoch: 9, Learning Rate: 0.010000, Training Accuracy: 0.9574, Loss: 0.1143, Validation Accuracy: 0.9136\n",
            "Epoch: 10, Learning Rate: 0.010000, Training Accuracy: 0.9623, Loss: 0.1009, Validation Accuracy: 0.9195\n",
            "accuracy on testing data: 0.915600\n"
          ]
        }
      ]
    }
  ],
  "metadata": {
    "kernelspec": {
      "display_name": "Python 3 (ipykernel)",
      "language": "python",
      "name": "python3"
    },
    "language_info": {
      "codemirror_mode": {
        "name": "ipython",
        "version": 3
      },
      "file_extension": ".py",
      "mimetype": "text/x-python",
      "name": "python",
      "nbconvert_exporter": "python",
      "pygments_lexer": "ipython3",
      "version": "3.10.9"
    },
    "pycharm": {
      "stem_cell": {
        "cell_type": "raw",
        "metadata": {
          "collapsed": false
        },
        "source": []
      }
    },
    "colab": {
      "provenance": [],
      "include_colab_link": true
    }
  },
  "nbformat": 4,
  "nbformat_minor": 0
}